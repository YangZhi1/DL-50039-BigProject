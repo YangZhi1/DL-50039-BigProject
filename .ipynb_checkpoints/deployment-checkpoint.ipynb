{
 "cells": [
  {
   "cell_type": "markdown",
   "metadata": {
    "id": "jM3XB2zE7Bqa"
   },
   "source": [
    "# Impersonation Scam Prediction\n",
    "## Members\n",
    "1) Heng Jing Han (1003590)\n",
    "\n",
    "2) Jeremy Chew (1003301)\n",
    "\n",
    "3) Lim Yang Zhi (1003458)\n",
    "\n",
    "4) Tiang Pei Yuan (1003323)\n",
    "\n",
    "5) Yu Wenling (1003793)"
   ]
  },
  {
   "cell_type": "markdown",
   "metadata": {
    "id": "brDaRV3a7Bqf"
   },
   "source": [
    "## Introduction\n",
    "Impersonation scams are online scams where malicious users impersonate other users on sites such as social media in order to target their family or close ones. In this project, we aims to predict potential victims of these types of scams, assuming that the impersonator is already known.\n",
    "\n",
    "In this notebook, we allow the user to input their own data."
   ]
  },
  {
   "cell_type": "markdown",
   "metadata": {
    "id": "gaYk2Qmn7EsL"
   },
   "source": [
    "## Google Colab initialisation\n",
    "Mount the drive and navigate to the correct directory."
   ]
  },
  {
   "cell_type": "code",
   "execution_count": null,
   "metadata": {
    "colab": {
     "base_uri": "https://localhost:8080/"
    },
    "executionInfo": {
     "elapsed": 20581,
     "status": "ok",
     "timestamp": 1619895580580,
     "user": {
      "displayName": "Heng jing han",
      "photoUrl": "",
      "userId": "01148339297681775778"
     },
     "user_tz": -480
    },
    "id": "RJq8i08s7D_x",
    "outputId": "ec674900-580b-4795-af5c-2ca4b31dad1a"
   },
   "outputs": [
    {
     "name": "stdout",
     "output_type": "stream",
     "text": [
      "Mounted at /content/drive\n"
     ]
    }
   ],
   "source": [
    "from google.colab import drive\n",
    "import os\n",
    "\n",
    "drive.mount('/content/drive')\n",
    "os.chdir(\"drive/My Drive/DL BIG/final-code\")"
   ]
  },
  {
   "cell_type": "code",
   "execution_count": null,
   "metadata": {
    "colab": {
     "base_uri": "https://localhost:8080/"
    },
    "executionInfo": {
     "elapsed": 2478,
     "status": "ok",
     "timestamp": 1619895585299,
     "user": {
      "displayName": "Heng jing han",
      "photoUrl": "",
      "userId": "01148339297681775778"
     },
     "user_tz": -480
    },
    "id": "7_CNQ_ZH7viZ",
    "outputId": "2a064772-beb6-44fb-b370-9c177ac0d2c1"
   },
   "outputs": [
    {
     "name": "stdout",
     "output_type": "stream",
     "text": [
      "data\t\t  graph.py  network.html  requirements.txt\n",
      "deployment.ipynb  models    __pycache__   training.ipynb\n"
     ]
    }
   ],
   "source": [
    "!ls"
   ]
  },
  {
   "cell_type": "markdown",
   "metadata": {
    "id": "AnVn5m_J7Bqf"
   },
   "source": [
    "## Import libraries\n",
    "The full list of requirements can be found in `requirements.txt`, and can be installed through `pip` using `pip install -r requirements.txt`."
   ]
  },
  {
   "cell_type": "code",
   "execution_count": null,
   "metadata": {
    "colab": {
     "base_uri": "https://localhost:8080/"
    },
    "executionInfo": {
     "elapsed": 8747,
     "status": "ok",
     "timestamp": 1619895595426,
     "user": {
      "displayName": "Heng jing han",
      "photoUrl": "",
      "userId": "01148339297681775778"
     },
     "user_tz": -480
    },
    "id": "T5dG97yM7fHg",
    "outputId": "ea5c18fd-bb7f-4f3a-f640-9e53834366d2"
   },
   "outputs": [
    {
     "name": "stdout",
     "output_type": "stream",
     "text": [
      "\u001b[K     |████████████████████████████████| 317kB 5.0MB/s \n",
      "\u001b[K     |████████████████████████████████| 51kB 4.4MB/s \n",
      "\u001b[?25h"
     ]
    }
   ],
   "source": [
    "!pip install -r requirements.txt --quiet"
   ]
  },
  {
   "cell_type": "code",
   "execution_count": null,
   "metadata": {
    "id": "0NSMjOlI7Bqg"
   },
   "outputs": [],
   "source": [
    "# required libraries\n",
    "import networkx as nx\n",
    "import matplotlib.pyplot as plt\n",
    "\n",
    "import torch\n",
    "import torch.nn as nn\n",
    "import torch.optim as optim\n",
    "\n",
    "import random\n",
    "\n",
    "# project-specific functions\n",
    "import graph"
   ]
  },
  {
   "cell_type": "markdown",
   "metadata": {
    "id": "_bChFTR_FRxV"
   },
   "source": [
    "## Build graph object\n",
    "Read the graph structure from `data/`. We also set the appropriate device (GPU or CPU)."
   ]
  },
  {
   "cell_type": "code",
   "execution_count": null,
   "metadata": {
    "colab": {
     "base_uri": "https://localhost:8080/"
    },
    "executionInfo": {
     "elapsed": 9369,
     "status": "ok",
     "timestamp": 1619895598892,
     "user": {
      "displayName": "Heng jing han",
      "photoUrl": "",
      "userId": "01148339297681775778"
     },
     "user_tz": -480
    },
    "id": "zVg8W3iaFXsi",
    "outputId": "326598e2-cf13-40d9-f892-3b7607f20065"
   },
   "outputs": [
    {
     "name": "stdout",
     "output_type": "stream",
     "text": [
      "cpu\n"
     ]
    }
   ],
   "source": [
    "# read data and build graph object\n",
    "G, _ = graph.read_data('data/3980_edited.edges', 'data/3980_edited.feat')\n",
    "\n",
    "# check if gpu is available\n",
    "device = torch.device('cuda' if torch.cuda.is_available() else 'cpu')\n",
    "print(device)"
   ]
  },
  {
   "cell_type": "markdown",
   "metadata": {
    "id": "VX627I5wCbA4"
   },
   "source": [
    "## Get user input\n",
    "There are 44 nodes in this dataset. A user can decide which of those nodes would be labelled as scammers. Ctrl-Click to select multiple scammers. There has to be exactly 2 scammers."
   ]
  },
  {
   "cell_type": "code",
   "execution_count": 1,
   "metadata": {
    "colab": {
     "base_uri": "https://localhost:8080/",
     "height": 244
    },
    "executionInfo": {
     "elapsed": 2450,
     "status": "error",
     "timestamp": 1619935984037,
     "user": {
      "displayName": "Wenling Yu",
      "photoUrl": "",
      "userId": "11329206602812464717"
     },
     "user_tz": -480
    },
    "id": "PhTrJI6hDK2Z",
    "outputId": "f33ce50e-cd1b-4d64-ba44-92e5cbfa965f"
   },
   "outputs": [
    {
     "ename": "NameError",
     "evalue": "ignored",
     "output_type": "error",
     "traceback": [
      "\u001b[0;31m---------------------------------------------------------------------------\u001b[0m",
      "\u001b[0;31mNameError\u001b[0m                                 Traceback (most recent call last)",
      "\u001b[0;32m<ipython-input-1-558ab3f910a4>\u001b[0m in \u001b[0;36m<module>\u001b[0;34m()\u001b[0m\n\u001b[1;32m      2\u001b[0m \u001b[0;34m\u001b[0m\u001b[0m\n\u001b[1;32m      3\u001b[0m scammer_select = widgets.SelectMultiple(\n\u001b[0;32m----> 4\u001b[0;31m     \u001b[0moptions\u001b[0m\u001b[0;34m=\u001b[0m\u001b[0mlist\u001b[0m\u001b[0;34m(\u001b[0m\u001b[0mG\u001b[0m\u001b[0;34m.\u001b[0m\u001b[0mnodes\u001b[0m\u001b[0;34m)\u001b[0m\u001b[0;34m,\u001b[0m\u001b[0;34m\u001b[0m\u001b[0;34m\u001b[0m\u001b[0m\n\u001b[0m\u001b[1;32m      5\u001b[0m     \u001b[0mdescription\u001b[0m\u001b[0;34m=\u001b[0m\u001b[0;34m'Scammers'\u001b[0m\u001b[0;34m,\u001b[0m\u001b[0;34m\u001b[0m\u001b[0;34m\u001b[0m\u001b[0m\n\u001b[1;32m      6\u001b[0m     \u001b[0mrows\u001b[0m\u001b[0;34m=\u001b[0m\u001b[0;36m10\u001b[0m\u001b[0;34m,\u001b[0m\u001b[0;34m\u001b[0m\u001b[0;34m\u001b[0m\u001b[0m\n",
      "\u001b[0;31mNameError\u001b[0m: name 'G' is not defined"
     ]
    }
   ],
   "source": [
    "import ipywidgets as widgets\n",
    "\n",
    "scammer_select = widgets.SelectMultiple(\n",
    "    options=list(G.nodes),\n",
    "    description='Scammers',\n",
    "    rows=10,\n",
    "    value=(3985, 3993),\n",
    "    disabled=False\n",
    ")\n",
    "\n",
    "display(scammer_select)"
   ]
  },
  {
   "cell_type": "markdown",
   "metadata": {
    "id": "odCjnU6cGmiO"
   },
   "source": [
    "Also, the user can input the name of the saved model, if it was different from the default."
   ]
  },
  {
   "cell_type": "code",
   "execution_count": null,
   "metadata": {
    "colab": {
     "base_uri": "https://localhost:8080/",
     "height": 49,
     "referenced_widgets": [
      "68b463647553401cb9350a455faf18f1",
      "a9e1f35319314e07883c05f9f34f8a70",
      "94d940f8fa474ca2aad8006b62b8787a"
     ]
    },
    "executionInfo": {
     "elapsed": 838,
     "status": "ok",
     "timestamp": 1619895620757,
     "user": {
      "displayName": "Heng jing han",
      "photoUrl": "",
      "userId": "01148339297681775778"
     },
     "user_tz": -480
    },
    "id": "_emREPnrGq0-",
    "outputId": "249ab451-a2af-41e0-c021-283304d736ae"
   },
   "outputs": [
    {
     "data": {
      "application/vnd.jupyter.widget-view+json": {
       "model_id": "68b463647553401cb9350a455faf18f1",
       "version_major": 2,
       "version_minor": 0
      },
      "text/plain": [
       "Text(value='models/model_final.pt', description='Model name')"
      ]
     },
     "metadata": {
      "tags": []
     },
     "output_type": "display_data"
    }
   ],
   "source": [
    "model_select = widgets.Text(\n",
    "    value='models/model_final.pt',\n",
    "    description='Model name'\n",
    ")\n",
    "\n",
    "display(model_select)"
   ]
  },
  {
   "cell_type": "markdown",
   "metadata": {
    "id": "3fahKKd_KB6l"
   },
   "source": [
    "Run the following cell after the performing your inputs"
   ]
  },
  {
   "cell_type": "code",
   "execution_count": null,
   "metadata": {
    "colab": {
     "base_uri": "https://localhost:8080/"
    },
    "executionInfo": {
     "elapsed": 729,
     "status": "ok",
     "timestamp": 1619895624943,
     "user": {
      "displayName": "Heng jing han",
      "photoUrl": "",
      "userId": "01148339297681775778"
     },
     "user_tz": -480
    },
    "id": "W8WDevRBJ-xZ",
    "outputId": "b4e2aa81-d426-47dc-9c76-ecafab12f0f1"
   },
   "outputs": [
    {
     "name": "stdout",
     "output_type": "stream",
     "text": [
      "Scammers:  (3995, 3996)\n",
      "Model name:  models/model_final.pt\n"
     ]
    }
   ],
   "source": [
    "# print out the user features as selected above\n",
    "print('Scammers: ', scammer_select.value)\n",
    "print('Model name: ', model_select.value)"
   ]
  },
  {
   "cell_type": "markdown",
   "metadata": {
    "id": "uuULIhcrF9wt"
   },
   "source": [
    "## Generate input features\n",
    "Our model takes as input the hop distance from each scammer, whether that node was a scammer, as well as feature 19, which is the anonymised gender."
   ]
  },
  {
   "cell_type": "code",
   "execution_count": null,
   "metadata": {
    "id": "QnzAPKevGMs1"
   },
   "outputs": [],
   "source": [
    "X = []\n",
    "distances = dict(nx.all_pairs_shortest_path_length(G))\n",
    "for node in G.nodes:\n",
    "    in_feat = []\n",
    "    # scammer label\n",
    "    if node in scammer_select.value:\n",
    "        in_feat.append(1)\n",
    "    else:\n",
    "        in_feat.append(0)\n",
    "    # hop distance to scammer 1\n",
    "    in_feat.append(distances[scammer_select.value[0]][node])\n",
    "    # hop distance to scammer 2\n",
    "    in_feat.append(distances[scammer_select.value[1]][node])\n",
    "    # feature 19\n",
    "    in_feat.append(G.nodes[node][19])\n",
    "    X.append(in_feat)"
   ]
  },
  {
   "cell_type": "markdown",
   "metadata": {
    "id": "9I4AkWmaBt6R"
   },
   "source": [
    "## Load the model\n",
    "Create and load the saved model that was created in `main.ipynb`. The default name is `models/final_model.pt`."
   ]
  },
  {
   "cell_type": "code",
   "execution_count": null,
   "metadata": {
    "colab": {
     "base_uri": "https://localhost:8080/"
    },
    "executionInfo": {
     "elapsed": 1032,
     "status": "ok",
     "timestamp": 1619893776155,
     "user": {
      "displayName": "Jeremy Chew",
      "photoUrl": "",
      "userId": "08757129155548756874"
     },
     "user_tz": -480
    },
    "id": "_O4HBaM3B5h8",
    "outputId": "468b22d1-bd58-480f-a89b-3911a8ee397f"
   },
   "outputs": [
    {
     "data": {
      "text/plain": [
       "Net(\n",
       "  (conv1): GCNKipf_Layer()\n",
       "  (conv2): GCNKipf_Layer()\n",
       ")"
      ]
     },
     "execution_count": 17,
     "metadata": {
      "tags": []
     },
     "output_type": "execute_result"
    }
   ],
   "source": [
    "# load adjacency matrix\n",
    "A = nx.adjacency_matrix(G).todense()\n",
    "A = torch.Tensor(A).to(device)\n",
    "\n",
    "# get the input feature size\n",
    "input_size = len(X[0])\n",
    "\n",
    "# load the model\n",
    "model = graph.Net(A, input_size, 10, 2, device)\n",
    "model.load_state_dict(torch.load(model_select.value))\n",
    "model.eval()"
   ]
  },
  {
   "cell_type": "markdown",
   "metadata": {
    "id": "q1h3eVXsIyer"
   },
   "source": [
    "## Run the model\n",
    "Run the user inputs on the trained model, and show the results in terms of a coloured graph."
   ]
  },
  {
   "cell_type": "code",
   "execution_count": null,
   "metadata": {
    "colab": {
     "base_uri": "https://localhost:8080/"
    },
    "executionInfo": {
     "elapsed": 521,
     "status": "ok",
     "timestamp": 1619893778601,
     "user": {
      "displayName": "Jeremy Chew",
      "photoUrl": "",
      "userId": "08757129155548756874"
     },
     "user_tz": -480
    },
    "id": "aFU7ucuaL51R",
    "outputId": "1210c8bd-e2ef-4260-918e-708ea9be326b"
   },
   "outputs": [
    {
     "name": "stdout",
     "output_type": "stream",
     "text": [
      "[0, 1, 1, 1, 1, 1, 1, 0, 0, 1, 0, 1, 0, 0, 0, 1, 0, 1, 1, 1, 1, 0, 1, 0, 0, 1, 1, 1, 0, 0, 1, 1, 1, 1, 1, 0, 1, 1, 1, 0, 1, 0, 1, 1]\n"
     ]
    }
   ],
   "source": [
    "# run this through our model\n",
    "X = torch.Tensor(X).to(device)\n",
    "out = torch.argmax(model(X), dim=1)\n",
    "\n",
    "# display the raw predictions\n",
    "print(out.cpu().tolist())"
   ]
  },
  {
   "cell_type": "code",
   "execution_count": null,
   "metadata": {
    "colab": {
     "base_uri": "https://localhost:8080/",
     "height": 538
    },
    "executionInfo": {
     "elapsed": 534,
     "status": "ok",
     "timestamp": 1619893783684,
     "user": {
      "displayName": "Jeremy Chew",
      "photoUrl": "",
      "userId": "08757129155548756874"
     },
     "user_tz": -480
    },
    "id": "EZgqFB_QI6FI",
    "outputId": "ed749fb3-00d1-4a01-93ca-2892b58fe77a"
   },
   "outputs": [
    {
     "data": {
      "text/html": [
       "<html>\n",
       "<head>\n",
       "<link rel=\"stylesheet\" href=\"https://cdnjs.cloudflare.com/ajax/libs/vis/4.16.1/vis.css\" type=\"text/css\" />\n",
       "<script type=\"text/javascript\" src=\"https://cdnjs.cloudflare.com/ajax/libs/vis/4.16.1/vis-network.min.js\"> </script>\n",
       "<center>\n",
       "<h1></h1>\n",
       "</center>\n",
       "\n",
       "<!-- <link rel=\"stylesheet\" href=\"../node_modules/vis/dist/vis.min.css\" type=\"text/css\" />\n",
       "<script type=\"text/javascript\" src=\"../node_modules/vis/dist/vis.js\"> </script>-->\n",
       "\n",
       "<style type=\"text/css\">\n",
       "\n",
       "        #mynetwork {\n",
       "            width: 500px;\n",
       "            height: 500px;\n",
       "            background-color: #ffffff;\n",
       "            border: 1px solid lightgray;\n",
       "            position: relative;\n",
       "            float: left;\n",
       "        }\n",
       "\n",
       "        \n",
       "\n",
       "        \n",
       "\n",
       "        \n",
       "</style>\n",
       "\n",
       "</head>\n",
       "\n",
       "<body>\n",
       "<div id = \"mynetwork\"></div>\n",
       "\n",
       "\n",
       "<script type=\"text/javascript\">\n",
       "\n",
       "    // initialize global variables.\n",
       "    var edges;\n",
       "    var nodes;\n",
       "    var network; \n",
       "    var container;\n",
       "    var options, data;\n",
       "\n",
       "    \n",
       "    // This method is responsible for drawing the graph, returns the drawn network\n",
       "    function drawGraph() {\n",
       "        var container = document.getElementById('mynetwork');\n",
       "        \n",
       "        \n",
       "\n",
       "        // parsing and collecting nodes and edges from the python\n",
       "        nodes = new vis.DataSet([{\"color\": \"#51F59D\", \"id\": 3981, \"label\": 3981, \"shape\": \"dot\", \"size\": 8}, {\"color\": \"#FFD700\", \"id\": 3982, \"label\": 3982, \"shape\": \"dot\", \"size\": 8}, {\"color\": \"#FFD700\", \"id\": 3983, \"label\": 3983, \"shape\": \"dot\", \"size\": 8}, {\"color\": \"#FFD700\", \"id\": 3985, \"label\": 3985, \"shape\": \"dot\", \"size\": 8}, {\"color\": \"#FFD700\", \"id\": 3986, \"label\": 3986, \"shape\": \"dot\", \"size\": 8}, {\"color\": \"#FFD700\", \"id\": 3988, \"label\": 3988, \"shape\": \"dot\", \"size\": 8}, {\"color\": \"#FFD700\", \"id\": 3989, \"label\": 3989, \"shape\": \"dot\", \"size\": 8}, {\"color\": \"#51F59D\", \"id\": 3991, \"label\": 3991, \"shape\": \"dot\", \"size\": 8}, {\"color\": \"#51F59D\", \"id\": 3992, \"label\": 3992, \"shape\": \"dot\", \"size\": 8}, {\"color\": \"#FFD700\", \"id\": 3993, \"label\": 3993, \"shape\": \"dot\", \"size\": 8}, {\"color\": \"#51F59D\", \"id\": 3994, \"label\": 3994, \"shape\": \"dot\", \"size\": 8}, {\"color\": \"#000000\", \"id\": 3995, \"label\": 3995, \"shape\": \"dot\", \"size\": 8}, {\"color\": \"#51F59D\", \"id\": 594, \"label\": 594, \"shape\": \"dot\", \"size\": 8}, {\"color\": \"#000000\", \"id\": 3996, \"label\": 3996, \"shape\": \"dot\", \"size\": 8}, {\"color\": \"#51F59D\", \"id\": 3997, \"label\": 3997, \"shape\": \"dot\", \"size\": 8}, {\"color\": \"#FFD700\", \"id\": 3998, \"label\": 3998, \"shape\": \"dot\", \"size\": 8}, {\"color\": \"#51F59D\", \"id\": 3999, \"label\": 3999, \"shape\": \"dot\", \"size\": 8}, {\"color\": \"#FFD700\", \"id\": 4000, \"label\": 4000, \"shape\": \"dot\", \"size\": 8}, {\"color\": \"#FFD700\", \"id\": 4002, \"label\": 4002, \"shape\": \"dot\", \"size\": 8}, {\"color\": \"#FFD700\", \"id\": 4003, \"label\": 4003, \"shape\": \"dot\", \"size\": 8}, {\"color\": \"#FFD700\", \"id\": 4004, \"label\": 4004, \"shape\": \"dot\", \"size\": 8}, {\"color\": \"#51F59D\", \"id\": 4005, \"label\": 4005, \"shape\": \"dot\", \"size\": 8}, {\"color\": \"#FFD700\", \"id\": 4006, \"label\": 4006, \"shape\": \"dot\", \"size\": 8}, {\"color\": \"#51F59D\", \"id\": 4009, \"label\": 4009, \"shape\": \"dot\", \"size\": 8}, {\"color\": \"#51F59D\", \"id\": 4011, \"label\": 4011, \"shape\": \"dot\", \"size\": 8}, {\"color\": \"#FFD700\", \"id\": 4013, \"label\": 4013, \"shape\": \"dot\", \"size\": 8}, {\"color\": \"#FFD700\", \"id\": 4014, \"label\": 4014, \"shape\": \"dot\", \"size\": 8}, {\"color\": \"#FFD700\", \"id\": 4017, \"label\": 4017, \"shape\": \"dot\", \"size\": 8}, {\"color\": \"#51F59D\", \"id\": 4018, \"label\": 4018, \"shape\": \"dot\", \"size\": 8}, {\"color\": \"#51F59D\", \"id\": 4019, \"label\": 4019, \"shape\": \"dot\", \"size\": 8}, {\"color\": \"#FFD700\", \"id\": 4020, \"label\": 4020, \"shape\": \"dot\", \"size\": 8}, {\"color\": \"#FFD700\", \"id\": 4021, \"label\": 4021, \"shape\": \"dot\", \"size\": 8}, {\"color\": \"#FFD700\", \"id\": 4023, \"label\": 4023, \"shape\": \"dot\", \"size\": 8}, {\"color\": \"#FFD700\", \"id\": 4026, \"label\": 4026, \"shape\": \"dot\", \"size\": 8}, {\"color\": \"#FFD700\", \"id\": 4027, \"label\": 4027, \"shape\": \"dot\", \"size\": 8}, {\"color\": \"#51F59D\", \"id\": 4028, \"label\": 4028, \"shape\": \"dot\", \"size\": 8}, {\"color\": \"#FFD700\", \"id\": 4030, \"label\": 4030, \"shape\": \"dot\", \"size\": 8}, {\"color\": \"#FFD700\", \"id\": 4031, \"label\": 4031, \"shape\": \"dot\", \"size\": 8}, {\"color\": \"#FFD700\", \"id\": 4032, \"label\": 4032, \"shape\": \"dot\", \"size\": 8}, {\"color\": \"#51F59D\", \"id\": 4033, \"label\": 4033, \"shape\": \"dot\", \"size\": 8}, {\"color\": \"#FFD700\", \"id\": 4034, \"label\": 4034, \"shape\": \"dot\", \"size\": 8}, {\"color\": \"#51F59D\", \"id\": 4036, \"label\": 4036, \"shape\": \"dot\", \"size\": 8}, {\"color\": \"#FFD700\", \"id\": 4037, \"label\": 4037, \"shape\": \"dot\", \"size\": 8}, {\"color\": \"#FFD700\", \"id\": 4038, \"label\": 4038, \"shape\": \"dot\", \"size\": 8}]);\n",
       "        edges = new vis.DataSet([{\"from\": 3981, \"to\": 3998}, {\"from\": 3981, \"to\": 4009}, {\"from\": 3981, \"to\": 4023}, {\"from\": 3981, \"to\": 3997}, {\"from\": 3981, \"to\": 4018}, {\"from\": 3981, \"to\": 3994}, {\"from\": 3981, \"to\": 4019}, {\"from\": 3982, \"to\": 3998}, {\"from\": 3982, \"to\": 3986}, {\"from\": 3982, \"to\": 4014}, {\"from\": 3982, \"to\": 4009}, {\"from\": 3982, \"to\": 4021}, {\"from\": 3982, \"to\": 4037}, {\"from\": 3982, \"to\": 4023}, {\"from\": 3982, \"to\": 4003}, {\"from\": 3982, \"to\": 4030}, {\"from\": 3982, \"to\": 3994}, {\"from\": 3982, \"to\": 3997}, {\"from\": 3982, \"to\": 3988}, {\"from\": 3982, \"to\": 4026}, {\"from\": 3983, \"to\": 4017}, {\"from\": 3985, \"to\": 4014}, {\"from\": 3985, \"to\": 3993}, {\"from\": 3985, \"to\": 3995}, {\"from\": 3985, \"to\": 3988}, {\"from\": 3985, \"to\": 4004}, {\"from\": 3986, \"to\": 4030}, {\"from\": 3986, \"to\": 4014}, {\"from\": 3986, \"to\": 4017}, {\"from\": 3986, \"to\": 4033}, {\"from\": 3986, \"to\": 4021}, {\"from\": 3986, \"to\": 4000}, {\"from\": 3986, \"to\": 4026}, {\"from\": 3988, \"to\": 4021}, {\"from\": 3988, \"to\": 3995}, {\"from\": 3988, \"to\": 4030}, {\"from\": 3988, \"to\": 3993}, {\"from\": 3989, \"to\": 3991}, {\"from\": 3989, \"to\": 4038}, {\"from\": 3989, \"to\": 594}, {\"from\": 3989, \"to\": 4011}, {\"from\": 3989, \"to\": 4013}, {\"from\": 3991, \"to\": 4031}, {\"from\": 3992, \"to\": 4017}, {\"from\": 3992, \"to\": 4000}, {\"from\": 3993, \"to\": 3995}, {\"from\": 3993, \"to\": 4030}, {\"from\": 3993, \"to\": 4004}, {\"from\": 3994, \"to\": 3998}, {\"from\": 3994, \"to\": 3997}, {\"from\": 3994, \"to\": 4019}, {\"from\": 3994, \"to\": 4018}, {\"from\": 3994, \"to\": 4030}, {\"from\": 3994, \"to\": 4009}, {\"from\": 3994, \"to\": 3996}, {\"from\": 3994, \"to\": 4023}, {\"from\": 3995, \"to\": 4004}, {\"from\": 3995, \"to\": 4000}, {\"from\": 3995, \"to\": 4014}, {\"from\": 3995, \"to\": 4026}, {\"from\": 3995, \"to\": 4023}, {\"from\": 594, \"to\": 4011}, {\"from\": 594, \"to\": 4031}, {\"from\": 3996, \"to\": 4028}, {\"from\": 3996, \"to\": 4002}, {\"from\": 3997, \"to\": 4018}, {\"from\": 3997, \"to\": 4019}, {\"from\": 3997, \"to\": 4023}, {\"from\": 3997, \"to\": 4030}, {\"from\": 3997, \"to\": 4021}, {\"from\": 3997, \"to\": 4009}, {\"from\": 3997, \"to\": 3998}, {\"from\": 3998, \"to\": 4021}, {\"from\": 3998, \"to\": 3999}, {\"from\": 3998, \"to\": 4019}, {\"from\": 3998, \"to\": 4014}, {\"from\": 3998, \"to\": 4009}, {\"from\": 3998, \"to\": 4018}, {\"from\": 3998, \"to\": 4002}, {\"from\": 3998, \"to\": 4005}, {\"from\": 3998, \"to\": 4023}, {\"from\": 3999, \"to\": 4005}, {\"from\": 3999, \"to\": 4036}, {\"from\": 4000, \"to\": 4026}, {\"from\": 4000, \"to\": 4021}, {\"from\": 4000, \"to\": 4030}, {\"from\": 4000, \"to\": 4017}, {\"from\": 4000, \"to\": 4033}, {\"from\": 4002, \"to\": 4031}, {\"from\": 4002, \"to\": 4027}, {\"from\": 4002, \"to\": 4020}, {\"from\": 4002, \"to\": 4023}, {\"from\": 4003, \"to\": 4023}, {\"from\": 4003, \"to\": 4009}, {\"from\": 4003, \"to\": 4030}, {\"from\": 4004, \"to\": 4013}, {\"from\": 4004, \"to\": 4023}, {\"from\": 4004, \"to\": 4020}, {\"from\": 4004, \"to\": 4030}, {\"from\": 4004, \"to\": 4031}, {\"from\": 4004, \"to\": 4038}, {\"from\": 4006, \"to\": 4027}, {\"from\": 4009, \"to\": 4030}, {\"from\": 4009, \"to\": 4023}, {\"from\": 4009, \"to\": 4019}, {\"from\": 4011, \"to\": 4031}, {\"from\": 4013, \"to\": 4023}, {\"from\": 4013, \"to\": 4038}, {\"from\": 4013, \"to\": 4031}, {\"from\": 4014, \"to\": 4038}, {\"from\": 4014, \"to\": 4030}, {\"from\": 4014, \"to\": 4023}, {\"from\": 4014, \"to\": 4021}, {\"from\": 4014, \"to\": 4037}, {\"from\": 4014, \"to\": 4017}, {\"from\": 4017, \"to\": 4030}, {\"from\": 4017, \"to\": 4026}, {\"from\": 4017, \"to\": 4021}, {\"from\": 4018, \"to\": 4030}, {\"from\": 4018, \"to\": 4023}, {\"from\": 4019, \"to\": 4026}, {\"from\": 4019, \"to\": 4030}, {\"from\": 4020, \"to\": 4037}, {\"from\": 4020, \"to\": 4027}, {\"from\": 4020, \"to\": 4031}, {\"from\": 4020, \"to\": 4030}, {\"from\": 4020, \"to\": 4038}, {\"from\": 4021, \"to\": 4030}, {\"from\": 4021, \"to\": 4026}, {\"from\": 4023, \"to\": 4031}, {\"from\": 4023, \"to\": 4030}, {\"from\": 4023, \"to\": 4034}, {\"from\": 4023, \"to\": 4038}, {\"from\": 4026, \"to\": 4030}, {\"from\": 4027, \"to\": 4032}, {\"from\": 4027, \"to\": 4038}, {\"from\": 4027, \"to\": 4031}, {\"from\": 4031, \"to\": 4038}]);\n",
       "\n",
       "        // adding nodes and edges to the graph\n",
       "        data = {nodes: nodes, edges: edges};\n",
       "\n",
       "        var options = {\n",
       "    \"configure\": {\n",
       "        \"enabled\": false\n",
       "    },\n",
       "    \"edges\": {\n",
       "        \"color\": {\n",
       "            \"inherit\": true\n",
       "        },\n",
       "        \"smooth\": {\n",
       "            \"enabled\": false,\n",
       "            \"type\": \"continuous\"\n",
       "        }\n",
       "    },\n",
       "    \"interaction\": {\n",
       "        \"dragNodes\": true,\n",
       "        \"hideEdgesOnDrag\": false,\n",
       "        \"hideNodesOnDrag\": false\n",
       "    },\n",
       "    \"physics\": {\n",
       "        \"enabled\": true,\n",
       "        \"stabilization\": {\n",
       "            \"enabled\": true,\n",
       "            \"fit\": true,\n",
       "            \"iterations\": 1000,\n",
       "            \"onlyDynamicEdges\": false,\n",
       "            \"updateInterval\": 50\n",
       "        }\n",
       "    }\n",
       "};\n",
       "        \n",
       "        \n",
       "\n",
       "        \n",
       "\n",
       "        network = new vis.Network(container, data, options);\n",
       "\t \n",
       "        \n",
       "\n",
       "\n",
       "        \n",
       "\n",
       "        return network;\n",
       "\n",
       "    }\n",
       "\n",
       "    drawGraph();\n",
       "\n",
       "</script>\n",
       "</body>\n",
       "</html>"
      ],
      "text/plain": [
       "<IPython.core.display.HTML object>"
      ]
     },
     "execution_count": 19,
     "metadata": {
      "tags": []
     },
     "output_type": "execute_result"
    }
   ],
   "source": [
    "from pyvis import network as net\n",
    "from dimcli.utils.networkviz import *\n",
    "\n",
    "# display the results as a coloured graph\n",
    "# if it was predicted to be a victim        : yellow\n",
    "# if it was not predicted to be a victim    : cyan\n",
    "# if it was a scammer                       : black\n",
    "\n",
    "yellow = '#FFD700'\n",
    "cyan = '#51F59D'\n",
    "black = '#000000'\n",
    "\n",
    "# create a visualisation object\n",
    "g = NetworkViz(notebook=True)\n",
    "\n",
    "# convert the networkx graph to one supported by pyvis\n",
    "for node in G.nodes:\n",
    "    g.add_node(node, size=8)\n",
    "\n",
    "for (f_node, t_node) in G.edges:\n",
    "    g.add_edge(f_node, t_node)\n",
    "\n",
    "# colour the nodes\n",
    "for i, node in enumerate(G.nodes):\n",
    "    pred = out.cpu().tolist()[i]\n",
    "    if X[i][0] == 1:\n",
    "        # scammer\n",
    "        g.nodes[i]['color'] = black\n",
    "    elif pred == 0:\n",
    "        g.nodes[i]['color'] = cyan\n",
    "    elif pred == 1:\n",
    "        # TP\n",
    "        g.nodes[i]['color'] = yellow\n",
    "\n",
    "# show the graph\n",
    "g.show(\"network.html\")"
   ]
  }
 ],
 "metadata": {
  "colab": {
   "name": "deployment.ipynb",
   "provenance": []
  },
  "kernelspec": {
   "display_name": "Python 3",
   "language": "python",
   "name": "python3"
  },
  "language_info": {
   "codemirror_mode": {
    "name": "ipython",
    "version": 3
   },
   "file_extension": ".py",
   "mimetype": "text/x-python",
   "name": "python",
   "nbconvert_exporter": "python",
   "pygments_lexer": "ipython3",
   "version": "3.9.2"
  },
  "widgets": {
   "application/vnd.jupyter.widget-state+json": {
    "68b463647553401cb9350a455faf18f1": {
     "model_module": "@jupyter-widgets/controls",
     "model_name": "TextModel",
     "state": {
      "_dom_classes": [],
      "_model_module": "@jupyter-widgets/controls",
      "_model_module_version": "1.5.0",
      "_model_name": "TextModel",
      "_view_count": null,
      "_view_module": "@jupyter-widgets/controls",
      "_view_module_version": "1.5.0",
      "_view_name": "TextView",
      "continuous_update": true,
      "description": "Model name",
      "description_tooltip": null,
      "disabled": false,
      "layout": "IPY_MODEL_94d940f8fa474ca2aad8006b62b8787a",
      "placeholder": "​",
      "style": "IPY_MODEL_a9e1f35319314e07883c05f9f34f8a70",
      "value": "models/model_final.pt"
     }
    },
    "94d940f8fa474ca2aad8006b62b8787a": {
     "model_module": "@jupyter-widgets/base",
     "model_name": "LayoutModel",
     "state": {
      "_model_module": "@jupyter-widgets/base",
      "_model_module_version": "1.2.0",
      "_model_name": "LayoutModel",
      "_view_count": null,
      "_view_module": "@jupyter-widgets/base",
      "_view_module_version": "1.2.0",
      "_view_name": "LayoutView",
      "align_content": null,
      "align_items": null,
      "align_self": null,
      "border": null,
      "bottom": null,
      "display": null,
      "flex": null,
      "flex_flow": null,
      "grid_area": null,
      "grid_auto_columns": null,
      "grid_auto_flow": null,
      "grid_auto_rows": null,
      "grid_column": null,
      "grid_gap": null,
      "grid_row": null,
      "grid_template_areas": null,
      "grid_template_columns": null,
      "grid_template_rows": null,
      "height": null,
      "justify_content": null,
      "justify_items": null,
      "left": null,
      "margin": null,
      "max_height": null,
      "max_width": null,
      "min_height": null,
      "min_width": null,
      "object_fit": null,
      "object_position": null,
      "order": null,
      "overflow": null,
      "overflow_x": null,
      "overflow_y": null,
      "padding": null,
      "right": null,
      "top": null,
      "visibility": null,
      "width": null
     }
    },
    "a9e1f35319314e07883c05f9f34f8a70": {
     "model_module": "@jupyter-widgets/controls",
     "model_name": "DescriptionStyleModel",
     "state": {
      "_model_module": "@jupyter-widgets/controls",
      "_model_module_version": "1.5.0",
      "_model_name": "DescriptionStyleModel",
      "_view_count": null,
      "_view_module": "@jupyter-widgets/base",
      "_view_module_version": "1.2.0",
      "_view_name": "StyleView",
      "description_width": ""
     }
    }
   }
  }
 },
 "nbformat": 4,
 "nbformat_minor": 1
}
