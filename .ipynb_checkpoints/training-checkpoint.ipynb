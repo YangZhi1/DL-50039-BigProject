{
 "cells": [
  {
   "cell_type": "markdown",
   "metadata": {
    "id": "jM3XB2zE7Bqa"
   },
   "source": [
    "# Impersonation Scam Prediction\n",
    "## Members\n",
    "1) Heng Jing Han (1003590)\n",
    "\n",
    "2) Jeremy Chew (1003301)\n",
    "\n",
    "3) Lim Yang Zhi (1003458)\n",
    "\n",
    "4) Tiang Pei Yuan (1003323)\n",
    "\n",
    "5) Yu Wenling (1003793)"
   ]
  },
  {
   "cell_type": "markdown",
   "metadata": {
    "id": "brDaRV3a7Bqf"
   },
   "source": [
    "## Introduction\n",
    "Impersonation scams are online scams where malicious users impersonate other users on sites such as social media in order to target their family or close ones. In this project, we aims to predict potential victims of these types of scams, assuming that the impersonator is already known.\n",
    "\n",
    "In this notebook, we initialise and train the model."
   ]
  },
  {
   "cell_type": "markdown",
   "metadata": {
    "id": "gaYk2Qmn7EsL"
   },
   "source": [
    "## Google Colab initialisation\n",
    "Mount the drive and navigate to the correct directory."
   ]
  },
  {
   "cell_type": "code",
   "execution_count": null,
   "metadata": {
    "colab": {
     "base_uri": "https://localhost:8080/"
    },
    "executionInfo": {
     "elapsed": 928,
     "status": "ok",
     "timestamp": 1619893372530,
     "user": {
      "displayName": "Jeremy Chew",
      "photoUrl": "",
      "userId": "08757129155548756874"
     },
     "user_tz": -480
    },
    "id": "RJq8i08s7D_x",
    "outputId": "a84fc7ba-edec-4c0f-8582-fa84eec0dfe1"
   },
   "outputs": [
    {
     "name": "stdout",
     "output_type": "stream",
     "text": [
      "Drive already mounted at /content/drive; to attempt to forcibly remount, call drive.mount(\"/content/drive\", force_remount=True).\n"
     ]
    }
   ],
   "source": [
    "from google.colab import drive\n",
    "import os\n",
    "\n",
    "drive.mount('/content/drive')\n",
    "os.chdir(\"drive/My Drive/DL BIG/final-code\")"
   ]
  },
  {
   "cell_type": "code",
   "execution_count": null,
   "metadata": {
    "colab": {
     "base_uri": "https://localhost:8080/"
    },
    "executionInfo": {
     "elapsed": 1418,
     "status": "ok",
     "timestamp": 1619893373029,
     "user": {
      "displayName": "Jeremy Chew",
      "photoUrl": "",
      "userId": "08757129155548756874"
     },
     "user_tz": -480
    },
    "id": "7_CNQ_ZH7viZ",
    "outputId": "10e6307b-0fe0-49c1-eaec-bf50c5dce46a"
   },
   "outputs": [
    {
     "name": "stdout",
     "output_type": "stream",
     "text": [
      "data\t\t  graph.py    models\t    __pycache__\n",
      "deployment.ipynb  main.ipynb  network.html  requirements.txt\n"
     ]
    }
   ],
   "source": [
    "!ls"
   ]
  },
  {
   "cell_type": "markdown",
   "metadata": {
    "id": "AnVn5m_J7Bqf"
   },
   "source": [
    "## Import libraries\n",
    "The full list of requirements can be found in `requirements.txt`, and can be installed through `pip` using `pip install -r requirements.txt`."
   ]
  },
  {
   "cell_type": "code",
   "execution_count": null,
   "metadata": {
    "id": "T5dG97yM7fHg"
   },
   "outputs": [],
   "source": [
    "!pip install -r requirements.txt --quiet"
   ]
  },
  {
   "cell_type": "code",
   "execution_count": null,
   "metadata": {
    "id": "0NSMjOlI7Bqg"
   },
   "outputs": [],
   "source": [
    "# required libraries\n",
    "import networkx as nx\n",
    "from sklearn.model_selection import train_test_split\n",
    "import matplotlib.pyplot as plt\n",
    "\n",
    "import torch\n",
    "import torch.nn as nn\n",
    "import torch.optim as optim\n",
    "\n",
    "import random\n",
    "\n",
    "# project-specific functions\n",
    "import graph"
   ]
  },
  {
   "cell_type": "markdown",
   "metadata": {
    "id": "yLJjRkas7Bqg"
   },
   "source": [
    "## Set variables\n",
    "Set model training variables, as well as data-specific variables. Also, set the seed for reproducibility."
   ]
  },
  {
   "cell_type": "code",
   "execution_count": null,
   "metadata": {
    "colab": {
     "base_uri": "https://localhost:8080/"
    },
    "executionInfo": {
     "elapsed": 5705,
     "status": "ok",
     "timestamp": 1619893377331,
     "user": {
      "displayName": "Jeremy Chew",
      "photoUrl": "",
      "userId": "08757129155548756874"
     },
     "user_tz": -480
    },
    "id": "s0smddL57Bqh",
    "outputId": "7c6d737b-f224-4ffd-e6a5-455050606e2f"
   },
   "outputs": [
    {
     "name": "stdout",
     "output_type": "stream",
     "text": [
      "cpu\n"
     ]
    }
   ],
   "source": [
    "# training variables\n",
    "epochs = 100\n",
    "lr = 0.01\n",
    "momentum = 0.9\n",
    "\n",
    "# data variables\n",
    "num_scammers = 2\n",
    "max_hop = 3\n",
    "\n",
    "# set seeds for reproducibility\n",
    "seed = 100\n",
    "random.seed(seed)\n",
    "\n",
    "# check if gpu is available\n",
    "device = torch.device('cuda' if torch.cuda.is_available() else 'cpu')\n",
    "print(device)"
   ]
  },
  {
   "cell_type": "markdown",
   "metadata": {
    "id": "MsVHxcPP7Bqh"
   },
   "source": [
    "## Build graph object, generate data points\n",
    "See `graph.py` for more details on the specific functions."
   ]
  },
  {
   "cell_type": "code",
   "execution_count": null,
   "metadata": {
    "id": "3WsqeOzU7Bqi"
   },
   "outputs": [],
   "source": [
    "# read data and build graph object\n",
    "G, features = graph.read_data('data/3980_edited.edges', 'data/3980_edited.feat')\n",
    "\n",
    "# set which features to use (we only use feature 19, which is the anonymised gender)\n",
    "features = [19]\n",
    "\n",
    "# get the data points\n",
    "X, y = graph.generate_samples(G, features, num_scammers=num_scammers, max_hop=max_hop)\n",
    "\n",
    "# split data into train and test (we use a 80-20 split)\n",
    "X_train, X_test, y_train, y_test = train_test_split(X, y, test_size=0.2, random_state=seed)\n",
    "\n",
    "# load adjacency matrix\n",
    "A = nx.adjacency_matrix(G).todense()\n",
    "A = torch.Tensor(A).to(device)\n",
    "\n",
    "# get the input feature size\n",
    "input_size = len(X_train[0][0])"
   ]
  },
  {
   "cell_type": "markdown",
   "metadata": {
    "id": "oevtTDBN7Bqi"
   },
   "source": [
    "## Initialise model\n",
    "We try to account for imbalance within our generated dataset by weighting how `nn.CrossEntropyLoss` calculates the loss."
   ]
  },
  {
   "cell_type": "code",
   "execution_count": null,
   "metadata": {
    "colab": {
     "base_uri": "https://localhost:8080/"
    },
    "executionInfo": {
     "elapsed": 6162,
     "status": "ok",
     "timestamp": 1619893377796,
     "user": {
      "displayName": "Jeremy Chew",
      "photoUrl": "",
      "userId": "08757129155548756874"
     },
     "user_tz": -480
    },
    "id": "0LF0w5tO7Bqi",
    "outputId": "02378172-7b43-493a-9543-16f461460be7"
   },
   "outputs": [
    {
     "name": "stdout",
     "output_type": "stream",
     "text": [
      "[0.7698863636363636, 0.23011363636363635]\n"
     ]
    }
   ],
   "source": [
    "# try to account for imbalance (only look within the training set)\n",
    "num_pos = sum(sum(lbl) for lbl in y_train)\n",
    "num_neg = len(G.nodes) * len(y_train) - num_pos\n",
    "samples = [num_neg, num_pos]\n",
    "wts = [1 - x / sum(samples) for x in samples]\n",
    "print(wts)\n",
    "weights = torch.Tensor(wts).to(device)\n",
    "\n",
    "# create the model\n",
    "model = graph.Net(A, input_size, 10, 2, device)\n",
    "criterion = nn.CrossEntropyLoss(weight=weights)\n",
    "optimiser = optim.SGD(model.parameters(), lr=lr, momentum=momentum)"
   ]
  },
  {
   "cell_type": "markdown",
   "metadata": {
    "id": "ehaf8E2D7Bqi"
   },
   "source": [
    "## Train the model\n",
    "We print out the training loss every 10 epochs. We will also plot how the losses vary as training progresses. We also save the model every 10 epochs."
   ]
  },
  {
   "cell_type": "code",
   "execution_count": null,
   "metadata": {
    "colab": {
     "base_uri": "https://localhost:8080/",
     "height": 619
    },
    "executionInfo": {
     "elapsed": 12081,
     "status": "ok",
     "timestamp": 1619893383721,
     "user": {
      "displayName": "Jeremy Chew",
      "photoUrl": "",
      "userId": "08757129155548756874"
     },
     "user_tz": -480
    },
    "id": "HOc_F1tZ7Bqj",
    "outputId": "7467c6ee-ea53-4bc1-defb-dcf1efab789f"
   },
   "outputs": [
    {
     "name": "stdout",
     "output_type": "stream",
     "text": [
      "Epoch 10 of 100\n",
      "\tLoss: 0.6591846093535423\n",
      "Epoch 20 of 100\n",
      "\tLoss: 0.6551462300121784\n",
      "Epoch 30 of 100\n",
      "\tLoss: 0.6483254827558994\n",
      "Epoch 40 of 100\n",
      "\tLoss: 0.6473249044269324\n",
      "Epoch 50 of 100\n",
      "\tLoss: 0.6352627895772457\n",
      "Epoch 60 of 100\n",
      "\tLoss: 0.6306695163249969\n",
      "Epoch 70 of 100\n",
      "\tLoss: 0.6261236716061831\n",
      "Epoch 80 of 100\n",
      "\tLoss: 0.6253911044448615\n",
      "Epoch 90 of 100\n",
      "\tLoss: 0.6254930097609759\n",
      "Epoch 100 of 100\n",
      "\tLoss: 0.6228230431675911\n"
     ]
    },
    {
     "data": {
      "image/png": "[encoded data removed]",
      "text/plain": [
       "<Figure size 432x288 with 1 Axes>"
      ]
     },
     "metadata": {
      "needs_background": "light",
      "tags": []
     },
     "output_type": "display_data"
    }
   ],
   "source": [
    "# collect losses\n",
    "losses = []\n",
    "\n",
    "# train the model\n",
    "for epoch in range(epochs):\n",
    "    tl_loss = 0\n",
    "    tl = 0\n",
    "    for X, y in zip(X_train, y_train):\n",
    "        # move X, y to device\n",
    "        X = torch.Tensor(X).to(device)\n",
    "        y = torch.Tensor(y).to(device).long()\n",
    "\n",
    "        # forward pass\n",
    "        optimiser.zero_grad()\n",
    "        out = model(X)\n",
    "\n",
    "        # backprop\n",
    "        loss = criterion(out, y)\n",
    "        loss.backward()\n",
    "        optimiser.step()\n",
    "\n",
    "        tl_loss += loss.item()\n",
    "        tl += 1\n",
    "\n",
    "    # show loss and save the model in case it crash during training\n",
    "    if (epoch + 1) % 10 == 0:\n",
    "        print(f'Epoch {epoch + 1} of {epochs}\\n\\tLoss: {tl_loss / tl}')      \n",
    "        torch.save(model.state_dict(), f'models/train/model_{epoch + 1}.pt')\n",
    "\n",
    "    losses.append(tl_loss / tl)\n",
    "    \n",
    "# plot the training loss\n",
    "plt.plot(range(epochs), losses, 'g', label='Loss')\n",
    "plt.xlabel('Epochs')\n",
    "plt.ylabel('Loss')\n",
    "plt.legend()\n",
    "plt.show()"
   ]
  },
  {
   "cell_type": "markdown",
   "metadata": {
    "id": "0eKWGkgm7Bqj"
   },
   "source": [
    "## Test the model\n",
    "For our metrics, we calculate the number of true positives, false positives, true negatives, and false negatives."
   ]
  },
  {
   "cell_type": "code",
   "execution_count": null,
   "metadata": {
    "colab": {
     "base_uri": "https://localhost:8080/"
    },
    "executionInfo": {
     "elapsed": 12077,
     "status": "ok",
     "timestamp": 1619893383722,
     "user": {
      "displayName": "Jeremy Chew",
      "photoUrl": "",
      "userId": "08757129155548756874"
     },
     "user_tz": -480
    },
    "id": "r8reM4V87Bqj",
    "outputId": "8798bd4a-eced-446a-c608-931e0ad5d98e"
   },
   "outputs": [
    {
     "name": "stdout",
     "output_type": "stream",
     "text": [
      "TP: 488. FP: 71. TN: 119. FN: 202.\n",
      "Accuracy: 0.6897727272727273\n"
     ]
    }
   ],
   "source": [
    "# test the model\n",
    "TP = TN = FP = FN = 0\n",
    "model.eval()\n",
    "for X, y in zip(X_test, y_test):\n",
    "    # move X to device\n",
    "    X = torch.Tensor(X).to(device)\n",
    "\n",
    "    # get output, convert to actual labels\n",
    "    out = model(X)\n",
    "    out = torch.argmax(out, dim=1)\n",
    "\n",
    "    # calculate metrics\n",
    "    for pred, actual in zip(out.cpu().tolist(), y):\n",
    "        if pred == actual == 0:\n",
    "            TN += 1\n",
    "        elif pred == actual == 1:\n",
    "            TP += 1\n",
    "        elif pred == 1:\n",
    "            FP += 1\n",
    "        else:\n",
    "            FN += 1\n",
    "\n",
    "\n",
    "print(f'TP: {TP}. FP: {FP}. TN: {TN}. FN: {FN}.')\n",
    "print(f'Accuracy: {(TP + TN) / (TP + TN + FP + FN)}')"
   ]
  },
  {
   "cell_type": "markdown",
   "metadata": {
    "id": "uZd7FlRZ7Bqk"
   },
   "source": [
    "## Visualisations\n",
    "We show how the network graph looks like. We also show how our model performs on a random sample from our test set."
   ]
  },
  {
   "cell_type": "code",
   "execution_count": null,
   "metadata": {
    "colab": {
     "base_uri": "https://localhost:8080/",
     "height": 538
    },
    "executionInfo": {
     "elapsed": 12719,
     "status": "ok",
     "timestamp": 1619893384367,
     "user": {
      "displayName": "Jeremy Chew",
      "photoUrl": "",
      "userId": "08757129155548756874"
     },
     "user_tz": -480
    },
    "id": "TedST1W_7Bqk",
    "outputId": "a9e2b4c6-6797-4709-cb90-08b0d1a6cfc9"
   },
   "outputs": [
    {
     "data": {
      "text/html": [
       "<html>\n",
       "<head>\n",
       "<link rel=\"stylesheet\" href=\"https://cdnjs.cloudflare.com/ajax/libs/vis/4.16.1/vis.css\" type=\"text/css\" />\n",
       "<script type=\"text/javascript\" src=\"https://cdnjs.cloudflare.com/ajax/libs/vis/4.16.1/vis-network.min.js\"> </script>\n",
       "<center>\n",
       "<h1></h1>\n",
       "</center>\n",
       "\n",
       "<!-- <link rel=\"stylesheet\" href=\"../node_modules/vis/dist/vis.min.css\" type=\"text/css\" />\n",
       "<script type=\"text/javascript\" src=\"../node_modules/vis/dist/vis.js\"> </script>-->\n",
       "\n",
       "<style type=\"text/css\">\n",
       "\n",
       "        #mynetwork {\n",
       "            width: 500px;\n",
       "            height: 500px;\n",
       "            background-color: #ffffff;\n",
       "            border: 1px solid lightgray;\n",
       "            position: relative;\n",
       "            float: left;\n",
       "        }\n",
       "\n",
       "        \n",
       "\n",
       "        \n",
       "\n",
       "        \n",
       "</style>\n",
       "\n",
       "</head>\n",
       "\n",
       "<body>\n",
       "<div id = \"mynetwork\"></div>\n",
       "\n",
       "\n",
       "<script type=\"text/javascript\">\n",
       "\n",
       "    // initialize global variables.\n",
       "    var edges;\n",
       "    var nodes;\n",
       "    var network; \n",
       "    var container;\n",
       "    var options, data;\n",
       "\n",
       "    \n",
       "    // This method is responsible for drawing the graph, returns the drawn network\n",
       "    function drawGraph() {\n",
       "        var container = document.getElementById('mynetwork');\n",
       "        \n",
       "        \n",
       "\n",
       "        // parsing and collecting nodes and edges from the python\n",
       "        nodes = new vis.DataSet([{\"id\": 3981, \"label\": 3981, \"shape\": \"dot\", \"size\": 8}, {\"id\": 3982, \"label\": 3982, \"shape\": \"dot\", \"size\": 8}, {\"id\": 3983, \"label\": 3983, \"shape\": \"dot\", \"size\": 8}, {\"id\": 3985, \"label\": 3985, \"shape\": \"dot\", \"size\": 8}, {\"id\": 3986, \"label\": 3986, \"shape\": \"dot\", \"size\": 8}, {\"id\": 3988, \"label\": 3988, \"shape\": \"dot\", \"size\": 8}, {\"id\": 3989, \"label\": 3989, \"shape\": \"dot\", \"size\": 8}, {\"id\": 3991, \"label\": 3991, \"shape\": \"dot\", \"size\": 8}, {\"id\": 3992, \"label\": 3992, \"shape\": \"dot\", \"size\": 8}, {\"id\": 3993, \"label\": 3993, \"shape\": \"dot\", \"size\": 8}, {\"id\": 3994, \"label\": 3994, \"shape\": \"dot\", \"size\": 8}, {\"id\": 3995, \"label\": 3995, \"shape\": \"dot\", \"size\": 8}, {\"id\": 594, \"label\": 594, \"shape\": \"dot\", \"size\": 8}, {\"id\": 3996, \"label\": 3996, \"shape\": \"dot\", \"size\": 8}, {\"id\": 3997, \"label\": 3997, \"shape\": \"dot\", \"size\": 8}, {\"id\": 3998, \"label\": 3998, \"shape\": \"dot\", \"size\": 8}, {\"id\": 3999, \"label\": 3999, \"shape\": \"dot\", \"size\": 8}, {\"id\": 4000, \"label\": 4000, \"shape\": \"dot\", \"size\": 8}, {\"id\": 4002, \"label\": 4002, \"shape\": \"dot\", \"size\": 8}, {\"id\": 4003, \"label\": 4003, \"shape\": \"dot\", \"size\": 8}, {\"id\": 4004, \"label\": 4004, \"shape\": \"dot\", \"size\": 8}, {\"id\": 4005, \"label\": 4005, \"shape\": \"dot\", \"size\": 8}, {\"id\": 4006, \"label\": 4006, \"shape\": \"dot\", \"size\": 8}, {\"id\": 4009, \"label\": 4009, \"shape\": \"dot\", \"size\": 8}, {\"id\": 4011, \"label\": 4011, \"shape\": \"dot\", \"size\": 8}, {\"id\": 4013, \"label\": 4013, \"shape\": \"dot\", \"size\": 8}, {\"id\": 4014, \"label\": 4014, \"shape\": \"dot\", \"size\": 8}, {\"id\": 4017, \"label\": 4017, \"shape\": \"dot\", \"size\": 8}, {\"id\": 4018, \"label\": 4018, \"shape\": \"dot\", \"size\": 8}, {\"id\": 4019, \"label\": 4019, \"shape\": \"dot\", \"size\": 8}, {\"id\": 4020, \"label\": 4020, \"shape\": \"dot\", \"size\": 8}, {\"id\": 4021, \"label\": 4021, \"shape\": \"dot\", \"size\": 8}, {\"id\": 4023, \"label\": 4023, \"shape\": \"dot\", \"size\": 8}, {\"id\": 4026, \"label\": 4026, \"shape\": \"dot\", \"size\": 8}, {\"id\": 4027, \"label\": 4027, \"shape\": \"dot\", \"size\": 8}, {\"id\": 4028, \"label\": 4028, \"shape\": \"dot\", \"size\": 8}, {\"id\": 4030, \"label\": 4030, \"shape\": \"dot\", \"size\": 8}, {\"id\": 4031, \"label\": 4031, \"shape\": \"dot\", \"size\": 8}, {\"id\": 4032, \"label\": 4032, \"shape\": \"dot\", \"size\": 8}, {\"id\": 4033, \"label\": 4033, \"shape\": \"dot\", \"size\": 8}, {\"id\": 4034, \"label\": 4034, \"shape\": \"dot\", \"size\": 8}, {\"id\": 4036, \"label\": 4036, \"shape\": \"dot\", \"size\": 8}, {\"id\": 4037, \"label\": 4037, \"shape\": \"dot\", \"size\": 8}, {\"id\": 4038, \"label\": 4038, \"shape\": \"dot\", \"size\": 8}]);\n",
       "        edges = new vis.DataSet([{\"from\": 3981, \"to\": 3998}, {\"from\": 3981, \"to\": 4009}, {\"from\": 3981, \"to\": 4023}, {\"from\": 3981, \"to\": 3997}, {\"from\": 3981, \"to\": 4018}, {\"from\": 3981, \"to\": 3994}, {\"from\": 3981, \"to\": 4019}, {\"from\": 3982, \"to\": 3998}, {\"from\": 3982, \"to\": 3986}, {\"from\": 3982, \"to\": 4014}, {\"from\": 3982, \"to\": 4009}, {\"from\": 3982, \"to\": 4021}, {\"from\": 3982, \"to\": 4037}, {\"from\": 3982, \"to\": 4023}, {\"from\": 3982, \"to\": 4003}, {\"from\": 3982, \"to\": 4030}, {\"from\": 3982, \"to\": 3994}, {\"from\": 3982, \"to\": 3997}, {\"from\": 3982, \"to\": 3988}, {\"from\": 3982, \"to\": 4026}, {\"from\": 3983, \"to\": 4017}, {\"from\": 3985, \"to\": 4014}, {\"from\": 3985, \"to\": 3993}, {\"from\": 3985, \"to\": 3995}, {\"from\": 3985, \"to\": 3988}, {\"from\": 3985, \"to\": 4004}, {\"from\": 3986, \"to\": 4030}, {\"from\": 3986, \"to\": 4014}, {\"from\": 3986, \"to\": 4017}, {\"from\": 3986, \"to\": 4033}, {\"from\": 3986, \"to\": 4021}, {\"from\": 3986, \"to\": 4000}, {\"from\": 3986, \"to\": 4026}, {\"from\": 3988, \"to\": 4021}, {\"from\": 3988, \"to\": 3995}, {\"from\": 3988, \"to\": 4030}, {\"from\": 3988, \"to\": 3993}, {\"from\": 3989, \"to\": 3991}, {\"from\": 3989, \"to\": 4038}, {\"from\": 3989, \"to\": 594}, {\"from\": 3989, \"to\": 4011}, {\"from\": 3989, \"to\": 4013}, {\"from\": 3991, \"to\": 4031}, {\"from\": 3992, \"to\": 4017}, {\"from\": 3992, \"to\": 4000}, {\"from\": 3993, \"to\": 3995}, {\"from\": 3993, \"to\": 4030}, {\"from\": 3993, \"to\": 4004}, {\"from\": 3994, \"to\": 3998}, {\"from\": 3994, \"to\": 3997}, {\"from\": 3994, \"to\": 4019}, {\"from\": 3994, \"to\": 4018}, {\"from\": 3994, \"to\": 4030}, {\"from\": 3994, \"to\": 4009}, {\"from\": 3994, \"to\": 3996}, {\"from\": 3994, \"to\": 4023}, {\"from\": 3995, \"to\": 4004}, {\"from\": 3995, \"to\": 4000}, {\"from\": 3995, \"to\": 4014}, {\"from\": 3995, \"to\": 4026}, {\"from\": 3995, \"to\": 4023}, {\"from\": 594, \"to\": 4011}, {\"from\": 594, \"to\": 4031}, {\"from\": 3996, \"to\": 4028}, {\"from\": 3996, \"to\": 4002}, {\"from\": 3997, \"to\": 4018}, {\"from\": 3997, \"to\": 4019}, {\"from\": 3997, \"to\": 4023}, {\"from\": 3997, \"to\": 4030}, {\"from\": 3997, \"to\": 4021}, {\"from\": 3997, \"to\": 4009}, {\"from\": 3997, \"to\": 3998}, {\"from\": 3998, \"to\": 4021}, {\"from\": 3998, \"to\": 3999}, {\"from\": 3998, \"to\": 4019}, {\"from\": 3998, \"to\": 4014}, {\"from\": 3998, \"to\": 4009}, {\"from\": 3998, \"to\": 4018}, {\"from\": 3998, \"to\": 4002}, {\"from\": 3998, \"to\": 4005}, {\"from\": 3998, \"to\": 4023}, {\"from\": 3999, \"to\": 4005}, {\"from\": 3999, \"to\": 4036}, {\"from\": 4000, \"to\": 4026}, {\"from\": 4000, \"to\": 4021}, {\"from\": 4000, \"to\": 4030}, {\"from\": 4000, \"to\": 4017}, {\"from\": 4000, \"to\": 4033}, {\"from\": 4002, \"to\": 4031}, {\"from\": 4002, \"to\": 4027}, {\"from\": 4002, \"to\": 4020}, {\"from\": 4002, \"to\": 4023}, {\"from\": 4003, \"to\": 4023}, {\"from\": 4003, \"to\": 4009}, {\"from\": 4003, \"to\": 4030}, {\"from\": 4004, \"to\": 4013}, {\"from\": 4004, \"to\": 4023}, {\"from\": 4004, \"to\": 4020}, {\"from\": 4004, \"to\": 4030}, {\"from\": 4004, \"to\": 4031}, {\"from\": 4004, \"to\": 4038}, {\"from\": 4006, \"to\": 4027}, {\"from\": 4009, \"to\": 4030}, {\"from\": 4009, \"to\": 4023}, {\"from\": 4009, \"to\": 4019}, {\"from\": 4011, \"to\": 4031}, {\"from\": 4013, \"to\": 4023}, {\"from\": 4013, \"to\": 4038}, {\"from\": 4013, \"to\": 4031}, {\"from\": 4014, \"to\": 4038}, {\"from\": 4014, \"to\": 4030}, {\"from\": 4014, \"to\": 4023}, {\"from\": 4014, \"to\": 4021}, {\"from\": 4014, \"to\": 4037}, {\"from\": 4014, \"to\": 4017}, {\"from\": 4017, \"to\": 4030}, {\"from\": 4017, \"to\": 4026}, {\"from\": 4017, \"to\": 4021}, {\"from\": 4018, \"to\": 4030}, {\"from\": 4018, \"to\": 4023}, {\"from\": 4019, \"to\": 4026}, {\"from\": 4019, \"to\": 4030}, {\"from\": 4020, \"to\": 4037}, {\"from\": 4020, \"to\": 4027}, {\"from\": 4020, \"to\": 4031}, {\"from\": 4020, \"to\": 4030}, {\"from\": 4020, \"to\": 4038}, {\"from\": 4021, \"to\": 4030}, {\"from\": 4021, \"to\": 4026}, {\"from\": 4023, \"to\": 4031}, {\"from\": 4023, \"to\": 4030}, {\"from\": 4023, \"to\": 4034}, {\"from\": 4023, \"to\": 4038}, {\"from\": 4026, \"to\": 4030}, {\"from\": 4027, \"to\": 4032}, {\"from\": 4027, \"to\": 4038}, {\"from\": 4027, \"to\": 4031}, {\"from\": 4031, \"to\": 4038}]);\n",
       "\n",
       "        // adding nodes and edges to the graph\n",
       "        data = {nodes: nodes, edges: edges};\n",
       "\n",
       "        var options = {\n",
       "    \"configure\": {\n",
       "        \"enabled\": false\n",
       "    },\n",
       "    \"edges\": {\n",
       "        \"color\": {\n",
       "            \"inherit\": true\n",
       "        },\n",
       "        \"smooth\": {\n",
       "            \"enabled\": false,\n",
       "            \"type\": \"continuous\"\n",
       "        }\n",
       "    },\n",
       "    \"interaction\": {\n",
       "        \"dragNodes\": true,\n",
       "        \"hideEdgesOnDrag\": false,\n",
       "        \"hideNodesOnDrag\": false\n",
       "    },\n",
       "    \"physics\": {\n",
       "        \"enabled\": true,\n",
       "        \"stabilization\": {\n",
       "            \"enabled\": true,\n",
       "            \"fit\": true,\n",
       "            \"iterations\": 1000,\n",
       "            \"onlyDynamicEdges\": false,\n",
       "            \"updateInterval\": 50\n",
       "        }\n",
       "    }\n",
       "};\n",
       "        \n",
       "        \n",
       "\n",
       "        \n",
       "\n",
       "        network = new vis.Network(container, data, options);\n",
       "\t \n",
       "        \n",
       "\n",
       "\n",
       "        \n",
       "\n",
       "        return network;\n",
       "\n",
       "    }\n",
       "\n",
       "    drawGraph();\n",
       "\n",
       "</script>\n",
       "</body>\n",
       "</html>"
      ],
      "text/plain": [
       "<IPython.core.display.HTML object>"
      ]
     },
     "execution_count": 10,
     "metadata": {
      "tags": []
     },
     "output_type": "execute_result"
    }
   ],
   "source": [
    "from pyvis import network as net\n",
    "from dimcli.utils.networkviz import *\n",
    "\n",
    "# show the network graph\n",
    "g = NetworkViz(notebook=True)\n",
    "\n",
    "# convert the networkx graph to one supported by pyvis\n",
    "for node in G.nodes:\n",
    "    g.add_node(node, size=8)\n",
    "\n",
    "for (f_node, t_node) in G.edges:\n",
    "    g.add_edge(f_node, t_node)\n",
    "\n",
    "# show the graph\n",
    "g.show(\"network.html\")"
   ]
  },
  {
   "cell_type": "code",
   "execution_count": null,
   "metadata": {
    "colab": {
     "base_uri": "https://localhost:8080/",
     "height": 538
    },
    "executionInfo": {
     "elapsed": 12716,
     "status": "ok",
     "timestamp": 1619893384368,
     "user": {
      "displayName": "Jeremy Chew",
      "photoUrl": "",
      "userId": "08757129155548756874"
     },
     "user_tz": -480
    },
    "id": "_aEYtBfa7Bqk",
    "outputId": "5ebc3d72-77c0-43d1-a104-7b3d1272c0c6"
   },
   "outputs": [
    {
     "data": {
      "text/html": [
       "<html>\n",
       "<head>\n",
       "<link rel=\"stylesheet\" href=\"https://cdnjs.cloudflare.com/ajax/libs/vis/4.16.1/vis.css\" type=\"text/css\" />\n",
       "<script type=\"text/javascript\" src=\"https://cdnjs.cloudflare.com/ajax/libs/vis/4.16.1/vis-network.min.js\"> </script>\n",
       "<center>\n",
       "<h1></h1>\n",
       "</center>\n",
       "\n",
       "<!-- <link rel=\"stylesheet\" href=\"../node_modules/vis/dist/vis.min.css\" type=\"text/css\" />\n",
       "<script type=\"text/javascript\" src=\"../node_modules/vis/dist/vis.js\"> </script>-->\n",
       "\n",
       "<style type=\"text/css\">\n",
       "\n",
       "        #mynetwork {\n",
       "            width: 500px;\n",
       "            height: 500px;\n",
       "            background-color: #ffffff;\n",
       "            border: 1px solid lightgray;\n",
       "            position: relative;\n",
       "            float: left;\n",
       "        }\n",
       "\n",
       "        \n",
       "\n",
       "        \n",
       "\n",
       "        \n",
       "</style>\n",
       "\n",
       "</head>\n",
       "\n",
       "<body>\n",
       "<div id = \"mynetwork\"></div>\n",
       "\n",
       "\n",
       "<script type=\"text/javascript\">\n",
       "\n",
       "    // initialize global variables.\n",
       "    var edges;\n",
       "    var nodes;\n",
       "    var network; \n",
       "    var container;\n",
       "    var options, data;\n",
       "\n",
       "    \n",
       "    // This method is responsible for drawing the graph, returns the drawn network\n",
       "    function drawGraph() {\n",
       "        var container = document.getElementById('mynetwork');\n",
       "        \n",
       "        \n",
       "\n",
       "        // parsing and collecting nodes and edges from the python\n",
       "        nodes = new vis.DataSet([{\"color\": \"#F53F2C\", \"id\": 3981, \"label\": 3981, \"shape\": \"dot\", \"size\": 8}, {\"color\": \"#FFD700\", \"id\": 3982, \"label\": 3982, \"shape\": \"dot\", \"size\": 8}, {\"color\": \"#FFD700\", \"id\": 3983, \"label\": 3983, \"shape\": \"dot\", \"size\": 8}, {\"color\": \"#FFD700\", \"id\": 3985, \"label\": 3985, \"shape\": \"dot\", \"size\": 8}, {\"color\": \"#FFD700\", \"id\": 3986, \"label\": 3986, \"shape\": \"dot\", \"size\": 8}, {\"color\": \"#FFD700\", \"id\": 3988, \"label\": 3988, \"shape\": \"dot\", \"size\": 8}, {\"color\": \"#3220F5\", \"id\": 3989, \"label\": 3989, \"shape\": \"dot\", \"size\": 8}, {\"color\": \"#FFD700\", \"id\": 3991, \"label\": 3991, \"shape\": \"dot\", \"size\": 8}, {\"color\": \"#000000\", \"id\": 3992, \"label\": 3992, \"shape\": \"dot\", \"size\": 8}, {\"color\": \"#FFD700\", \"id\": 3993, \"label\": 3993, \"shape\": \"dot\", \"size\": 8}, {\"color\": \"#51F59D\", \"id\": 3994, \"label\": 3994, \"shape\": \"dot\", \"size\": 8}, {\"color\": \"#FFD700\", \"id\": 3995, \"label\": 3995, \"shape\": \"dot\", \"size\": 8}, {\"color\": \"#FFD700\", \"id\": 594, \"label\": 594, \"shape\": \"dot\", \"size\": 8}, {\"color\": \"#3220F5\", \"id\": 3996, \"label\": 3996, \"shape\": \"dot\", \"size\": 8}, {\"color\": \"#F53F2C\", \"id\": 3997, \"label\": 3997, \"shape\": \"dot\", \"size\": 8}, {\"color\": \"#000000\", \"id\": 3998, \"label\": 3998, \"shape\": \"dot\", \"size\": 8}, {\"color\": \"#F53F2C\", \"id\": 3999, \"label\": 3999, \"shape\": \"dot\", \"size\": 8}, {\"color\": \"#F53F2C\", \"id\": 4000, \"label\": 4000, \"shape\": \"dot\", \"size\": 8}, {\"color\": \"#FFD700\", \"id\": 4002, \"label\": 4002, \"shape\": \"dot\", \"size\": 8}, {\"color\": \"#FFD700\", \"id\": 4003, \"label\": 4003, \"shape\": \"dot\", \"size\": 8}, {\"color\": \"#FFD700\", \"id\": 4004, \"label\": 4004, \"shape\": \"dot\", \"size\": 8}, {\"color\": \"#F53F2C\", \"id\": 4005, \"label\": 4005, \"shape\": \"dot\", \"size\": 8}, {\"color\": \"#3220F5\", \"id\": 4006, \"label\": 4006, \"shape\": \"dot\", \"size\": 8}, {\"color\": \"#F53F2C\", \"id\": 4009, \"label\": 4009, \"shape\": \"dot\", \"size\": 8}, {\"color\": \"#3220F5\", \"id\": 4011, \"label\": 4011, \"shape\": \"dot\", \"size\": 8}, {\"color\": \"#FFD700\", \"id\": 4013, \"label\": 4013, \"shape\": \"dot\", \"size\": 8}, {\"color\": \"#FFD700\", \"id\": 4014, \"label\": 4014, \"shape\": \"dot\", \"size\": 8}, {\"color\": \"#F53F2C\", \"id\": 4017, \"label\": 4017, \"shape\": \"dot\", \"size\": 8}, {\"color\": \"#F53F2C\", \"id\": 4018, \"label\": 4018, \"shape\": \"dot\", \"size\": 8}, {\"color\": \"#F53F2C\", \"id\": 4019, \"label\": 4019, \"shape\": \"dot\", \"size\": 8}, {\"color\": \"#FFD700\", \"id\": 4020, \"label\": 4020, \"shape\": \"dot\", \"size\": 8}, {\"color\": \"#FFD700\", \"id\": 4021, \"label\": 4021, \"shape\": \"dot\", \"size\": 8}, {\"color\": \"#FFD700\", \"id\": 4023, \"label\": 4023, \"shape\": \"dot\", \"size\": 8}, {\"color\": \"#FFD700\", \"id\": 4026, \"label\": 4026, \"shape\": \"dot\", \"size\": 8}, {\"color\": \"#FFD700\", \"id\": 4027, \"label\": 4027, \"shape\": \"dot\", \"size\": 8}, {\"color\": \"#FFD700\", \"id\": 4028, \"label\": 4028, \"shape\": \"dot\", \"size\": 8}, {\"color\": \"#FFD700\", \"id\": 4030, \"label\": 4030, \"shape\": \"dot\", \"size\": 8}, {\"color\": \"#FFD700\", \"id\": 4031, \"label\": 4031, \"shape\": \"dot\", \"size\": 8}, {\"color\": \"#FFD700\", \"id\": 4032, \"label\": 4032, \"shape\": \"dot\", \"size\": 8}, {\"color\": \"#F53F2C\", \"id\": 4033, \"label\": 4033, \"shape\": \"dot\", \"size\": 8}, {\"color\": \"#FFD700\", \"id\": 4034, \"label\": 4034, \"shape\": \"dot\", \"size\": 8}, {\"color\": \"#51F59D\", \"id\": 4036, \"label\": 4036, \"shape\": \"dot\", \"size\": 8}, {\"color\": \"#FFD700\", \"id\": 4037, \"label\": 4037, \"shape\": \"dot\", \"size\": 8}, {\"color\": \"#FFD700\", \"id\": 4038, \"label\": 4038, \"shape\": \"dot\", \"size\": 8}]);\n",
       "        edges = new vis.DataSet([{\"from\": 3981, \"to\": 3998}, {\"from\": 3981, \"to\": 4009}, {\"from\": 3981, \"to\": 4023}, {\"from\": 3981, \"to\": 3997}, {\"from\": 3981, \"to\": 4018}, {\"from\": 3981, \"to\": 3994}, {\"from\": 3981, \"to\": 4019}, {\"from\": 3982, \"to\": 3998}, {\"from\": 3982, \"to\": 3986}, {\"from\": 3982, \"to\": 4014}, {\"from\": 3982, \"to\": 4009}, {\"from\": 3982, \"to\": 4021}, {\"from\": 3982, \"to\": 4037}, {\"from\": 3982, \"to\": 4023}, {\"from\": 3982, \"to\": 4003}, {\"from\": 3982, \"to\": 4030}, {\"from\": 3982, \"to\": 3994}, {\"from\": 3982, \"to\": 3997}, {\"from\": 3982, \"to\": 3988}, {\"from\": 3982, \"to\": 4026}, {\"from\": 3983, \"to\": 4017}, {\"from\": 3985, \"to\": 4014}, {\"from\": 3985, \"to\": 3993}, {\"from\": 3985, \"to\": 3995}, {\"from\": 3985, \"to\": 3988}, {\"from\": 3985, \"to\": 4004}, {\"from\": 3986, \"to\": 4030}, {\"from\": 3986, \"to\": 4014}, {\"from\": 3986, \"to\": 4017}, {\"from\": 3986, \"to\": 4033}, {\"from\": 3986, \"to\": 4021}, {\"from\": 3986, \"to\": 4000}, {\"from\": 3986, \"to\": 4026}, {\"from\": 3988, \"to\": 4021}, {\"from\": 3988, \"to\": 3995}, {\"from\": 3988, \"to\": 4030}, {\"from\": 3988, \"to\": 3993}, {\"from\": 3989, \"to\": 3991}, {\"from\": 3989, \"to\": 4038}, {\"from\": 3989, \"to\": 594}, {\"from\": 3989, \"to\": 4011}, {\"from\": 3989, \"to\": 4013}, {\"from\": 3991, \"to\": 4031}, {\"from\": 3992, \"to\": 4017}, {\"from\": 3992, \"to\": 4000}, {\"from\": 3993, \"to\": 3995}, {\"from\": 3993, \"to\": 4030}, {\"from\": 3993, \"to\": 4004}, {\"from\": 3994, \"to\": 3998}, {\"from\": 3994, \"to\": 3997}, {\"from\": 3994, \"to\": 4019}, {\"from\": 3994, \"to\": 4018}, {\"from\": 3994, \"to\": 4030}, {\"from\": 3994, \"to\": 4009}, {\"from\": 3994, \"to\": 3996}, {\"from\": 3994, \"to\": 4023}, {\"from\": 3995, \"to\": 4004}, {\"from\": 3995, \"to\": 4000}, {\"from\": 3995, \"to\": 4014}, {\"from\": 3995, \"to\": 4026}, {\"from\": 3995, \"to\": 4023}, {\"from\": 594, \"to\": 4011}, {\"from\": 594, \"to\": 4031}, {\"from\": 3996, \"to\": 4028}, {\"from\": 3996, \"to\": 4002}, {\"from\": 3997, \"to\": 4018}, {\"from\": 3997, \"to\": 4019}, {\"from\": 3997, \"to\": 4023}, {\"from\": 3997, \"to\": 4030}, {\"from\": 3997, \"to\": 4021}, {\"from\": 3997, \"to\": 4009}, {\"from\": 3997, \"to\": 3998}, {\"from\": 3998, \"to\": 4021}, {\"from\": 3998, \"to\": 3999}, {\"from\": 3998, \"to\": 4019}, {\"from\": 3998, \"to\": 4014}, {\"from\": 3998, \"to\": 4009}, {\"from\": 3998, \"to\": 4018}, {\"from\": 3998, \"to\": 4002}, {\"from\": 3998, \"to\": 4005}, {\"from\": 3998, \"to\": 4023}, {\"from\": 3999, \"to\": 4005}, {\"from\": 3999, \"to\": 4036}, {\"from\": 4000, \"to\": 4026}, {\"from\": 4000, \"to\": 4021}, {\"from\": 4000, \"to\": 4030}, {\"from\": 4000, \"to\": 4017}, {\"from\": 4000, \"to\": 4033}, {\"from\": 4002, \"to\": 4031}, {\"from\": 4002, \"to\": 4027}, {\"from\": 4002, \"to\": 4020}, {\"from\": 4002, \"to\": 4023}, {\"from\": 4003, \"to\": 4023}, {\"from\": 4003, \"to\": 4009}, {\"from\": 4003, \"to\": 4030}, {\"from\": 4004, \"to\": 4013}, {\"from\": 4004, \"to\": 4023}, {\"from\": 4004, \"to\": 4020}, {\"from\": 4004, \"to\": 4030}, {\"from\": 4004, \"to\": 4031}, {\"from\": 4004, \"to\": 4038}, {\"from\": 4006, \"to\": 4027}, {\"from\": 4009, \"to\": 4030}, {\"from\": 4009, \"to\": 4023}, {\"from\": 4009, \"to\": 4019}, {\"from\": 4011, \"to\": 4031}, {\"from\": 4013, \"to\": 4023}, {\"from\": 4013, \"to\": 4038}, {\"from\": 4013, \"to\": 4031}, {\"from\": 4014, \"to\": 4038}, {\"from\": 4014, \"to\": 4030}, {\"from\": 4014, \"to\": 4023}, {\"from\": 4014, \"to\": 4021}, {\"from\": 4014, \"to\": 4037}, {\"from\": 4014, \"to\": 4017}, {\"from\": 4017, \"to\": 4030}, {\"from\": 4017, \"to\": 4026}, {\"from\": 4017, \"to\": 4021}, {\"from\": 4018, \"to\": 4030}, {\"from\": 4018, \"to\": 4023}, {\"from\": 4019, \"to\": 4026}, {\"from\": 4019, \"to\": 4030}, {\"from\": 4020, \"to\": 4037}, {\"from\": 4020, \"to\": 4027}, {\"from\": 4020, \"to\": 4031}, {\"from\": 4020, \"to\": 4030}, {\"from\": 4020, \"to\": 4038}, {\"from\": 4021, \"to\": 4030}, {\"from\": 4021, \"to\": 4026}, {\"from\": 4023, \"to\": 4031}, {\"from\": 4023, \"to\": 4030}, {\"from\": 4023, \"to\": 4034}, {\"from\": 4023, \"to\": 4038}, {\"from\": 4026, \"to\": 4030}, {\"from\": 4027, \"to\": 4032}, {\"from\": 4027, \"to\": 4038}, {\"from\": 4027, \"to\": 4031}, {\"from\": 4031, \"to\": 4038}]);\n",
       "\n",
       "        // adding nodes and edges to the graph\n",
       "        data = {nodes: nodes, edges: edges};\n",
       "\n",
       "        var options = {\n",
       "    \"configure\": {\n",
       "        \"enabled\": false\n",
       "    },\n",
       "    \"edges\": {\n",
       "        \"color\": {\n",
       "            \"inherit\": true\n",
       "        },\n",
       "        \"smooth\": {\n",
       "            \"enabled\": false,\n",
       "            \"type\": \"continuous\"\n",
       "        }\n",
       "    },\n",
       "    \"interaction\": {\n",
       "        \"dragNodes\": true,\n",
       "        \"hideEdgesOnDrag\": false,\n",
       "        \"hideNodesOnDrag\": false\n",
       "    },\n",
       "    \"physics\": {\n",
       "        \"enabled\": true,\n",
       "        \"stabilization\": {\n",
       "            \"enabled\": true,\n",
       "            \"fit\": true,\n",
       "            \"iterations\": 1000,\n",
       "            \"onlyDynamicEdges\": false,\n",
       "            \"updateInterval\": 50\n",
       "        }\n",
       "    }\n",
       "};\n",
       "        \n",
       "        \n",
       "\n",
       "        \n",
       "\n",
       "        network = new vis.Network(container, data, options);\n",
       "\t \n",
       "        \n",
       "\n",
       "\n",
       "        \n",
       "\n",
       "        return network;\n",
       "\n",
       "    }\n",
       "\n",
       "    drawGraph();\n",
       "\n",
       "</script>\n",
       "</body>\n",
       "</html>"
      ],
      "text/plain": [
       "<IPython.core.display.HTML object>"
      ]
     },
     "execution_count": 11,
     "metadata": {
      "tags": []
     },
     "output_type": "execute_result"
    }
   ],
   "source": [
    "# choose a random sample\n",
    "X, y = random.choice(list(zip(X_test, y_test)))\n",
    "\n",
    "# run this through our model\n",
    "X = torch.Tensor(X).to(device)\n",
    "out = torch.argmax(model(X), dim=1)\n",
    "\n",
    "# colour the nodes accordingly\n",
    "# if it was a victim, and was predicted as such (TP)      : yellow\n",
    "# if it was not a victim, and was predicted as such (TN)  : cyan\n",
    "# if it was not a victim, but was predicted as one (FP)   : blue\n",
    "# if it was a victim, but was not predicted as one (FN)   : red\n",
    "# if it was a scammer                                     : black\n",
    "\n",
    "yellow = '#FFD700'\n",
    "cyan = '#51F59D'\n",
    "blue = '#3220F5'\n",
    "red = '#F53F2C'\n",
    "black = '#000000'\n",
    "\n",
    "for i, node in enumerate(G.nodes):\n",
    "    pred = out.cpu().tolist()[i]\n",
    "    actual = y[i]\n",
    "    \n",
    "    if X[i][0] == 1:\n",
    "        # scammer\n",
    "        g.nodes[i]['color'] = black\n",
    "    elif pred == actual == 0:\n",
    "        # TN\n",
    "        g.nodes[i]['color'] = cyan\n",
    "    elif pred == actual == 1:\n",
    "        # TP\n",
    "        g.nodes[i]['color'] = yellow\n",
    "    elif pred == 1:\n",
    "        # FP\n",
    "        g.nodes[i]['color'] = blue\n",
    "    else:\n",
    "        # FN\n",
    "        g.nodes[i]['color'] = red\n",
    "\n",
    "# show the graph\n",
    "g.show(\"network.html\")"
   ]
  },
  {
   "cell_type": "markdown",
   "metadata": {
    "id": "SSl-not77Bql"
   },
   "source": [
    "## Model saving\n",
    "Save the model so that we can use it for later."
   ]
  },
  {
   "cell_type": "code",
   "execution_count": null,
   "metadata": {
    "id": "oAIEVi9O8TYt"
   },
   "outputs": [],
   "source": [
    "torch.save(model.state_dict(), f'models/model_final.pt')"
   ]
  }
 ],
 "metadata": {
  "colab": {
   "name": "training.ipynb",
   "provenance": []
  },
  "kernelspec": {
   "display_name": "Python 3",
   "language": "python",
   "name": "python3"
  },
  "language_info": {
   "codemirror_mode": {
    "name": "ipython",
    "version": 3
   },
   "file_extension": ".py",
   "mimetype": "text/x-python",
   "name": "python",
   "nbconvert_exporter": "python",
   "pygments_lexer": "ipython3",
   "version": "3.9.2"
  }
 },
 "nbformat": 4,
 "nbformat_minor": 1
}
