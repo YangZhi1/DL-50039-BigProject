{
 "cells": [
  {
   "cell_type": "markdown",
   "metadata": {
    "id": "jM3XB2zE7Bqa"
   },
   "source": [
    "# Impersonation Scam Prediction\n",
    "## Members\n",
    "1) Heng Jing Han (1003590)\n",
    "\n",
    "2) Jeremy Chew (1003301)\n",
    "\n",
    "3) Lim Yang Zhi (1003458)\n",
    "\n",
    "4) Tiang Pei Yuan (1003323)\n",
    "\n",
    "5) Yu Wenling (1003793)"
   ]
  },
  {
   "cell_type": "markdown",
   "metadata": {
    "id": "brDaRV3a7Bqf"
   },
   "source": [
    "## Introduction\n",
    "Impersonation scams are online scams where malicious users impersonate other users on sites such as social media in order to target their family or close ones. In this project, we aims to predict potential victims of these types of scams, assuming that the impersonator is already known.\n",
    "\n",
    "In this notebook, we allow the user to input their own data."
   ]
  },
  {
   "cell_type": "markdown",
   "metadata": {
    "id": "gaYk2Qmn7EsL"
   },
   "source": [
    "## Google Colab initialisation\n",
    "Mount the drive and navigate to the correct directory."
   ]
  },
  {
   "cell_type": "code",
   "execution_count": null,
   "metadata": {
    "colab": {
     "base_uri": "https://localhost:8080/"
    },
    "id": "RJq8i08s7D_x",
    "outputId": "ec674900-580b-4795-af5c-2ca4b31dad1a"
   },
   "outputs": [
    {
     "name": "stdout",
     "output_type": "stream",
     "text": [
      "Mounted at /content/drive\n"
     ]
    }
   ],
   "source": [
    "from google.colab import drive\n",
    "import os\n",
    "\n",
    "drive.mount('/content/drive')\n",
    "os.chdir(\"drive/My Drive/DL BIG/final-code\")"
   ]
  },
  {
   "cell_type": "code",
   "execution_count": null,
   "metadata": {
    "colab": {
     "base_uri": "https://localhost:8080/"
    },
    "id": "7_CNQ_ZH7viZ",
    "outputId": "2a064772-beb6-44fb-b370-9c177ac0d2c1"
   },
   "outputs": [
    {
     "name": "stdout",
     "output_type": "stream",
     "text": [
      "data\t\t  graph.py  network.html  requirements.txt\n",
      "deployment.ipynb  models    __pycache__   training.ipynb\n"
     ]
    }
   ],
   "source": [
    "!ls"
   ]
  },
  {
   "cell_type": "markdown",
   "metadata": {
    "id": "AnVn5m_J7Bqf"
   },
   "source": [
    "## Import libraries\n",
    "The full list of requirements can be found in `requirements.txt`, and can be installed through `pip` using `pip install -r requirements.txt`."
   ]
  },
  {
   "cell_type": "code",
   "execution_count": null,
   "metadata": {
    "colab": {
     "base_uri": "https://localhost:8080/"
    },
    "id": "T5dG97yM7fHg",
    "outputId": "ea5c18fd-bb7f-4f3a-f640-9e53834366d2"
   },
   "outputs": [
    {
     "name": "stdout",
     "output_type": "stream",
     "text": [
      "\u001b[K     |████████████████████████████████| 317kB 5.0MB/s \n",
      "\u001b[K     |████████████████████████████████| 51kB 4.4MB/s \n",
      "\u001b[?25h"
     ]
    }
   ],
   "source": [
    "!pip install -r requirements.txt --quiet"
   ]
  },
  {
   "cell_type": "code",
   "execution_count": 1,
   "metadata": {
    "id": "0NSMjOlI7Bqg"
   },
   "outputs": [],
   "source": [
    "# required libraries\n",
    "import networkx as nx\n",
    "import matplotlib.pyplot as plt\n",
    "\n",
    "import torch\n",
    "import torch.nn as nn\n",
    "import torch.optim as optim\n",
    "\n",
    "import random\n",
    "\n",
    "# project-specific functions\n",
    "import graph"
   ]
  },
  {
   "cell_type": "markdown",
   "metadata": {
    "id": "_bChFTR_FRxV"
   },
   "source": [
    "## Build graph object\n",
    "Read the graph structure from `data/`. We also set the appropriate device (GPU or CPU)."
   ]
  },
  {
   "cell_type": "code",
   "execution_count": 2,
   "metadata": {
    "colab": {
     "base_uri": "https://localhost:8080/"
    },
    "id": "zVg8W3iaFXsi",
    "outputId": "326598e2-cf13-40d9-f892-3b7607f20065"
   },
   "outputs": [
    {
     "name": "stdout",
     "output_type": "stream",
     "text": [
      "cuda\n"
     ]
    }
   ],
   "source": [
    "# read data and build graph object\n",
    "G, _ = graph.read_data('data/3980_edited.edges', 'data/3980_edited.feat')\n",
    "\n",
    "# check if gpu is available\n",
    "device = torch.device('cuda' if torch.cuda.is_available() else 'cpu')\n",
    "print(device)"
   ]
  },
  {
   "cell_type": "markdown",
   "metadata": {
    "id": "VX627I5wCbA4"
   },
   "source": [
    "## Get user input\n",
    "There are 44 nodes in this dataset. A user can decide which of those nodes would be labelled as scammers. Ctrl-Click to select multiple scammers. There has to be exactly 2 scammers."
   ]
  },
  {
   "cell_type": "code",
   "execution_count": 3,
   "metadata": {
    "colab": {
     "base_uri": "https://localhost:8080/",
     "height": 194,
     "referenced_widgets": [
      "f161372b42e0442b97792d366c2273e4",
      "b6e04ec180a44c52bca0b0841010af6d",
      "1ca924fb080e4233814e03a555766ca3"
     ]
    },
    "id": "PhTrJI6hDK2Z",
    "outputId": "6cc3f50d-ffcd-4857-ba26-8d4eacca8cfd"
   },
   "outputs": [
    {
     "data": {
      "application/vnd.jupyter.widget-view+json": {
       "model_id": "4c966551642a4f10a9bedda06cd0065f",
       "version_major": 2,
       "version_minor": 0
      },
      "text/plain": [
       "SelectMultiple(description='Scammers', index=(3, 9), options=(3981, 3982, 3983, 3985, 3986, 3988, 3989, 3991, …"
      ]
     },
     "metadata": {},
     "output_type": "display_data"
    }
   ],
   "source": [
    "import ipywidgets as widgets\n",
    "\n",
    "scammer_select = widgets.SelectMultiple(\n",
    "    options=list(G.nodes),\n",
    "    description='Scammers',\n",
    "    rows=10,\n",
    "    value=(3985, 3993),\n",
    "    disabled=False\n",
    ")\n",
    "\n",
    "display(scammer_select)"
   ]
  },
  {
   "cell_type": "markdown",
   "metadata": {
    "id": "odCjnU6cGmiO"
   },
   "source": [
    "Also, the user can input the name of the saved model, if it was different from the default."
   ]
  },
  {
   "cell_type": "code",
   "execution_count": 4,
   "metadata": {
    "colab": {
     "base_uri": "https://localhost:8080/",
     "height": 49,
     "referenced_widgets": [
      "68b463647553401cb9350a455faf18f1",
      "a9e1f35319314e07883c05f9f34f8a70",
      "94d940f8fa474ca2aad8006b62b8787a"
     ]
    },
    "id": "_emREPnrGq0-",
    "outputId": "249ab451-a2af-41e0-c021-283304d736ae"
   },
   "outputs": [
    {
     "data": {
      "application/vnd.jupyter.widget-view+json": {
       "model_id": "cff9e3b597774120b09b34f6a5ac3e91",
       "version_major": 2,
       "version_minor": 0
      },
      "text/plain": [
       "Text(value='models/model_final.pt', description='Model name')"
      ]
     },
     "metadata": {},
     "output_type": "display_data"
    }
   ],
   "source": [
    "model_select = widgets.Text(\n",
    "    value='models/model_final.pt',\n",
    "    description='Model name'\n",
    ")\n",
    "\n",
    "display(model_select)"
   ]
  },
  {
   "cell_type": "markdown",
   "metadata": {
    "id": "3fahKKd_KB6l"
   },
   "source": [
    "Run the following cell after the performing your inputs"
   ]
  },
  {
   "cell_type": "code",
   "execution_count": 5,
   "metadata": {
    "colab": {
     "base_uri": "https://localhost:8080/"
    },
    "id": "W8WDevRBJ-xZ",
    "outputId": "b4e2aa81-d426-47dc-9c76-ecafab12f0f1"
   },
   "outputs": [
    {
     "name": "stdout",
     "output_type": "stream",
     "text": [
      "Scammers:  (3985, 3993)\n",
      "Model name:  models/model_final.pt\n"
     ]
    }
   ],
   "source": [
    "# print out the user features as selected above\n",
    "print('Scammers: ', scammer_select.value)\n",
    "print('Model name: ', model_select.value)"
   ]
  },
  {
   "cell_type": "markdown",
   "metadata": {
    "id": "uuULIhcrF9wt"
   },
   "source": [
    "## Generate input features\n",
    "Our model takes as input the hop distance from each scammer, whether that node was a scammer, as well as feature 19, which is the anonymised gender."
   ]
  },
  {
   "cell_type": "code",
   "execution_count": 6,
   "metadata": {
    "id": "QnzAPKevGMs1"
   },
   "outputs": [],
   "source": [
    "X = []\n",
    "distances = dict(nx.all_pairs_shortest_path_length(G))\n",
    "for node in G.nodes:\n",
    "    in_feat = []\n",
    "    # scammer label\n",
    "    if node in scammer_select.value:\n",
    "        in_feat.append(1)\n",
    "    else:\n",
    "        in_feat.append(0)\n",
    "    # hop distance to scammer 1\n",
    "    in_feat.append(distances[scammer_select.value[0]][node])\n",
    "    # hop distance to scammer 2\n",
    "    in_feat.append(distances[scammer_select.value[1]][node])\n",
    "    # feature 19\n",
    "    in_feat.append(G.nodes[node][19])\n",
    "    X.append(in_feat)"
   ]
  },
  {
   "cell_type": "markdown",
   "metadata": {
    "id": "9I4AkWmaBt6R"
   },
   "source": [
    "## Load the model\n",
    "Create and load the saved model that was created in `main.ipynb`. The default name is `models/final_model.pt`."
   ]
  },
  {
   "cell_type": "code",
   "execution_count": 7,
   "metadata": {
    "colab": {
     "base_uri": "https://localhost:8080/"
    },
    "id": "_O4HBaM3B5h8",
    "outputId": "468b22d1-bd58-480f-a89b-3911a8ee397f"
   },
   "outputs": [
    {
     "data": {
      "text/plain": [
       "Net(\n",
       "  (conv1): GCNKipf_Layer()\n",
       "  (conv2): GCNKipf_Layer()\n",
       ")"
      ]
     },
     "execution_count": 7,
     "metadata": {},
     "output_type": "execute_result"
    }
   ],
   "source": [
    "# load adjacency matrix\n",
    "A = nx.adjacency_matrix(G).todense()\n",
    "A = torch.Tensor(A).to(device)\n",
    "\n",
    "# get the input feature size\n",
    "input_size = len(X[0])\n",
    "\n",
    "# load the model\n",
    "model = graph.Net(A, input_size, 10, 2, device)\n",
    "model.load_state_dict(torch.load(model_select.value))\n",
    "model.eval()"
   ]
  },
  {
   "cell_type": "markdown",
   "metadata": {
    "id": "q1h3eVXsIyer"
   },
   "source": [
    "## Run the model\n",
    "Run the user inputs on the trained model, and show the results in terms of a coloured graph."
   ]
  },
  {
   "cell_type": "code",
   "execution_count": 8,
   "metadata": {
    "colab": {
     "base_uri": "https://localhost:8080/"
    },
    "id": "aFU7ucuaL51R",
    "outputId": "1210c8bd-e2ef-4260-918e-708ea9be326b"
   },
   "outputs": [
    {
     "name": "stdout",
     "output_type": "stream",
     "text": [
      "[0, 0, 0, 0, 0, 0, 0, 0, 0, 0, 0, 0, 0, 1, 0, 0, 0, 0, 0, 1, 0, 1, 0, 0, 0, 0, 0, 0, 0, 0, 0, 0, 0, 0, 0, 1, 0, 0, 0, 0, 0, 0, 1, 0]\n"
     ]
    }
   ],
   "source": [
    "# run this through our model\n",
    "X = torch.Tensor(X).to(device)\n",
    "out = torch.argmax(model(X), dim=1)\n",
    "\n",
    "# display the raw predictions\n",
    "print(out.cpu().tolist())"
   ]
  },
  {
   "cell_type": "code",
   "execution_count": 9,
   "metadata": {
    "colab": {
     "base_uri": "https://localhost:8080/",
     "height": 538
    },
    "id": "EZgqFB_QI6FI",
    "outputId": "ed749fb3-00d1-4a01-93ca-2892b58fe77a"
   },
   "outputs": [
    {
     "data": {
      "text/html": [
       "\n",
       "        <iframe\n",
       "            width=\"500px\"\n",
       "            height=\"500px\"\n",
       "            src=\"network.html\"\n",
       "            frameborder=\"0\"\n",
       "            allowfullscreen\n",
       "        ></iframe>\n",
       "        "
      ],
      "text/plain": [
       "<IPython.lib.display.IFrame at 0x1a541122640>"
      ]
     },
     "execution_count": 9,
     "metadata": {},
     "output_type": "execute_result"
    }
   ],
   "source": [
    "from pyvis import network as net\n",
    "from dimcli.utils.networkviz import *\n",
    "\n",
    "# display the results as a coloured graph\n",
    "# if it was predicted to be a victim        : yellow\n",
    "# if it was not predicted to be a victim    : cyan\n",
    "# if it was a scammer                       : black\n",
    "\n",
    "yellow = '#FFD700'\n",
    "cyan = '#51F59D'\n",
    "black = '#000000'\n",
    "\n",
    "# create a visualisation object\n",
    "g = NetworkViz(notebook=True)\n",
    "\n",
    "# convert the networkx graph to one supported by pyvis\n",
    "for node in G.nodes:\n",
    "    g.add_node(node, size=8)\n",
    "\n",
    "for (f_node, t_node) in G.edges:\n",
    "    g.add_edge(f_node, t_node)\n",
    "\n",
    "# colour the nodes\n",
    "for i, node in enumerate(G.nodes):\n",
    "    pred = out.cpu().tolist()[i]\n",
    "    if X[i][0] == 1:\n",
    "        # scammer\n",
    "        g.nodes[i]['color'] = black\n",
    "    elif pred == 0:\n",
    "        g.nodes[i]['color'] = cyan\n",
    "    elif pred == 1:\n",
    "        # TP\n",
    "        g.nodes[i]['color'] = yellow\n",
    "\n",
    "# show the graph\n",
    "g.show(\"network.html\")"
   ]
  }
 ],
 "metadata": {
  "colab": {
   "name": "deployment.ipynb",
   "provenance": []
  },
  "kernelspec": {
   "display_name": "Python 3",
   "language": "python",
   "name": "python3"
  },
  "language_info": {
   "codemirror_mode": {
    "name": "ipython",
    "version": 3
   },
   "file_extension": ".py",
   "mimetype": "text/x-python",
   "name": "python",
   "nbconvert_exporter": "python",
   "pygments_lexer": "ipython3",
   "version": "3.9.2"
  },
  "widgets": {
   "application/vnd.jupyter.widget-state+json": {
    "1ca924fb080e4233814e03a555766ca3": {
     "model_module": "@jupyter-widgets/base",
     "model_name": "LayoutModel",
     "state": {
      "_model_module": "@jupyter-widgets/base",
      "_model_module_version": "1.2.0",
      "_model_name": "LayoutModel",
      "_view_count": null,
      "_view_module": "@jupyter-widgets/base",
      "_view_module_version": "1.2.0",
      "_view_name": "LayoutView",
      "align_content": null,
      "align_items": null,
      "align_self": null,
      "border": null,
      "bottom": null,
      "display": null,
      "flex": null,
      "flex_flow": null,
      "grid_area": null,
      "grid_auto_columns": null,
      "grid_auto_flow": null,
      "grid_auto_rows": null,
      "grid_column": null,
      "grid_gap": null,
      "grid_row": null,
      "grid_template_areas": null,
      "grid_template_columns": null,
      "grid_template_rows": null,
      "height": null,
      "justify_content": null,
      "justify_items": null,
      "left": null,
      "margin": null,
      "max_height": null,
      "max_width": null,
      "min_height": null,
      "min_width": null,
      "object_fit": null,
      "object_position": null,
      "order": null,
      "overflow": null,
      "overflow_x": null,
      "overflow_y": null,
      "padding": null,
      "right": null,
      "top": null,
      "visibility": null,
      "width": null
     }
    },
    "68b463647553401cb9350a455faf18f1": {
     "model_module": "@jupyter-widgets/controls",
     "model_name": "TextModel",
     "state": {
      "_dom_classes": [],
      "_model_module": "@jupyter-widgets/controls",
      "_model_module_version": "1.5.0",
      "_model_name": "TextModel",
      "_view_count": null,
      "_view_module": "@jupyter-widgets/controls",
      "_view_module_version": "1.5.0",
      "_view_name": "TextView",
      "continuous_update": true,
      "description": "Model name",
      "description_tooltip": null,
      "disabled": false,
      "layout": "IPY_MODEL_94d940f8fa474ca2aad8006b62b8787a",
      "placeholder": "​",
      "style": "IPY_MODEL_a9e1f35319314e07883c05f9f34f8a70",
      "value": "models/model_final.pt"
     }
    },
    "94d940f8fa474ca2aad8006b62b8787a": {
     "model_module": "@jupyter-widgets/base",
     "model_name": "LayoutModel",
     "state": {
      "_model_module": "@jupyter-widgets/base",
      "_model_module_version": "1.2.0",
      "_model_name": "LayoutModel",
      "_view_count": null,
      "_view_module": "@jupyter-widgets/base",
      "_view_module_version": "1.2.0",
      "_view_name": "LayoutView",
      "align_content": null,
      "align_items": null,
      "align_self": null,
      "border": null,
      "bottom": null,
      "display": null,
      "flex": null,
      "flex_flow": null,
      "grid_area": null,
      "grid_auto_columns": null,
      "grid_auto_flow": null,
      "grid_auto_rows": null,
      "grid_column": null,
      "grid_gap": null,
      "grid_row": null,
      "grid_template_areas": null,
      "grid_template_columns": null,
      "grid_template_rows": null,
      "height": null,
      "justify_content": null,
      "justify_items": null,
      "left": null,
      "margin": null,
      "max_height": null,
      "max_width": null,
      "min_height": null,
      "min_width": null,
      "object_fit": null,
      "object_position": null,
      "order": null,
      "overflow": null,
      "overflow_x": null,
      "overflow_y": null,
      "padding": null,
      "right": null,
      "top": null,
      "visibility": null,
      "width": null
     }
    },
    "a9e1f35319314e07883c05f9f34f8a70": {
     "model_module": "@jupyter-widgets/controls",
     "model_name": "DescriptionStyleModel",
     "state": {
      "_model_module": "@jupyter-widgets/controls",
      "_model_module_version": "1.5.0",
      "_model_name": "DescriptionStyleModel",
      "_view_count": null,
      "_view_module": "@jupyter-widgets/base",
      "_view_module_version": "1.2.0",
      "_view_name": "StyleView",
      "description_width": ""
     }
    },
    "b6e04ec180a44c52bca0b0841010af6d": {
     "model_module": "@jupyter-widgets/controls",
     "model_name": "DescriptionStyleModel",
     "state": {
      "_model_module": "@jupyter-widgets/controls",
      "_model_module_version": "1.5.0",
      "_model_name": "DescriptionStyleModel",
      "_view_count": null,
      "_view_module": "@jupyter-widgets/base",
      "_view_module_version": "1.2.0",
      "_view_name": "StyleView",
      "description_width": ""
     }
    },
    "f161372b42e0442b97792d366c2273e4": {
     "model_module": "@jupyter-widgets/controls",
     "model_name": "SelectMultipleModel",
     "state": {
      "_dom_classes": [],
      "_model_module": "@jupyter-widgets/controls",
      "_model_module_version": "1.5.0",
      "_model_name": "SelectMultipleModel",
      "_options_labels": [
       "3981",
       "3982",
       "3983",
       "3985",
       "3986",
       "3988",
       "3989",
       "3991",
       "3992",
       "3993",
       "3994",
       "3995",
       "594",
       "3996",
       "3997",
       "3998",
       "3999",
       "4000",
       "4002",
       "4003",
       "4004",
       "4005",
       "4006",
       "4009",
       "4011",
       "4013",
       "4014",
       "4017",
       "4018",
       "4019",
       "4020",
       "4021",
       "4023",
       "4026",
       "4027",
       "4028",
       "4030",
       "4031",
       "4032",
       "4033",
       "4034",
       "4036",
       "4037",
       "4038"
      ],
      "_view_count": null,
      "_view_module": "@jupyter-widgets/controls",
      "_view_module_version": "1.5.0",
      "_view_name": "SelectMultipleView",
      "description": "Scammers",
      "description_tooltip": null,
      "disabled": false,
      "index": [
       11,
       13
      ],
      "layout": "IPY_MODEL_1ca924fb080e4233814e03a555766ca3",
      "rows": 10,
      "style": "IPY_MODEL_b6e04ec180a44c52bca0b0841010af6d"
     }
    }
   }
  }
 },
 "nbformat": 4,
 "nbformat_minor": 1
}
