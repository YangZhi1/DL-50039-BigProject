{
 "cells": [
  {
   "cell_type": "markdown",
   "metadata": {
    "id": "jM3XB2zE7Bqa"
   },
   "source": [
    "# Impersonation Scam Prediction\n",
    "## Members\n",
    "1) Heng Jing Han (1003590)\n",
    "\n",
    "2) Jeremy Chew (1003301)\n",
    "\n",
    "3) Lim Yang Zhi (1003458)\n",
    "\n",
    "4) Tiang Pei Yuan (1003323)\n",
    "\n",
    "5) Yu Wenling (1003793)"
   ]
  },
  {
   "cell_type": "markdown",
   "metadata": {
    "id": "brDaRV3a7Bqf"
   },
   "source": [
    "## Introduction\n",
    "Impersonation scams are online scams where malicious users impersonate other users on sites such as social media in order to target their family or close ones. In this project, we aims to predict potential victims of these types of scams, assuming that the impersonator is already known.\n",
    "\n",
    "In this notebook, we initialise and train the model."
   ]
  },
  {
   "cell_type": "markdown",
   "metadata": {
    "id": "gaYk2Qmn7EsL"
   },
   "source": [
    "## Google Colab initialisation\n",
    "Mount the drive and navigate to the correct directory."
   ]
  },
  {
   "cell_type": "code",
   "execution_count": null,
   "metadata": {
    "colab": {
     "base_uri": "https://localhost:8080/"
    },
    "executionInfo": {
     "elapsed": 928,
     "status": "ok",
     "timestamp": 1619893372530,
     "user": {
      "displayName": "Jeremy Chew",
      "photoUrl": "",
      "userId": "08757129155548756874"
     },
     "user_tz": -480
    },
    "id": "RJq8i08s7D_x",
    "outputId": "a84fc7ba-edec-4c0f-8582-fa84eec0dfe1"
   },
   "outputs": [
    {
     "name": "stdout",
     "output_type": "stream",
     "text": [
      "Drive already mounted at /content/drive; to attempt to forcibly remount, call drive.mount(\"/content/drive\", force_remount=True).\n"
     ]
    }
   ],
   "source": [
    "from google.colab import drive\n",
    "import os\n",
    "\n",
    "drive.mount('/content/drive')\n",
    "os.chdir(\"drive/My Drive/DL BIG/final-code\")"
   ]
  },
  {
   "cell_type": "code",
   "execution_count": null,
   "metadata": {
    "colab": {
     "base_uri": "https://localhost:8080/"
    },
    "executionInfo": {
     "elapsed": 1418,
     "status": "ok",
     "timestamp": 1619893373029,
     "user": {
      "displayName": "Jeremy Chew",
      "photoUrl": "",
      "userId": "08757129155548756874"
     },
     "user_tz": -480
    },
    "id": "7_CNQ_ZH7viZ",
    "outputId": "10e6307b-0fe0-49c1-eaec-bf50c5dce46a"
   },
   "outputs": [
    {
     "name": "stdout",
     "output_type": "stream",
     "text": [
      "data\t\t  graph.py    models\t    __pycache__\n",
      "deployment.ipynb  main.ipynb  network.html  requirements.txt\n"
     ]
    }
   ],
   "source": [
    "!ls"
   ]
  },
  {
   "cell_type": "markdown",
   "metadata": {
    "id": "AnVn5m_J7Bqf"
   },
   "source": [
    "## Import libraries\n",
    "The full list of requirements can be found in `requirements.txt`, and can be installed through `pip` using `pip install -r requirements.txt`."
   ]
  },
  {
   "cell_type": "code",
   "execution_count": null,
   "metadata": {
    "id": "T5dG97yM7fHg"
   },
   "outputs": [],
   "source": [
    "!pip install -r requirements.txt --quiet"
   ]
  },
  {
   "cell_type": "code",
   "execution_count": 1,
   "metadata": {
    "id": "0NSMjOlI7Bqg"
   },
   "outputs": [],
   "source": [
    "# required libraries\n",
    "import networkx as nx\n",
    "from sklearn.model_selection import train_test_split\n",
    "import matplotlib.pyplot as plt\n",
    "\n",
    "import torch\n",
    "import torch.nn as nn\n",
    "import torch.optim as optim\n",
    "\n",
    "import random\n",
    "\n",
    "# project-specific functions\n",
    "import graph"
   ]
  },
  {
   "cell_type": "markdown",
   "metadata": {
    "id": "yLJjRkas7Bqg"
   },
   "source": [
    "## Set variables\n",
    "Set model training variables, as well as data-specific variables. Also, set the seed for reproducibility."
   ]
  },
  {
   "cell_type": "code",
   "execution_count": 2,
   "metadata": {
    "colab": {
     "base_uri": "https://localhost:8080/"
    },
    "executionInfo": {
     "elapsed": 5705,
     "status": "ok",
     "timestamp": 1619893377331,
     "user": {
      "displayName": "Jeremy Chew",
      "photoUrl": "",
      "userId": "08757129155548756874"
     },
     "user_tz": -480
    },
    "id": "s0smddL57Bqh",
    "outputId": "7c6d737b-f224-4ffd-e6a5-455050606e2f"
   },
   "outputs": [
    {
     "name": "stdout",
     "output_type": "stream",
     "text": [
      "cuda\n"
     ]
    }
   ],
   "source": [
    "# training variables\n",
    "epochs = 100\n",
    "lr = 0.01\n",
    "momentum = 0.9\n",
    "\n",
    "# data variables\n",
    "num_scammers = 2\n",
    "max_hop = 3\n",
    "\n",
    "# set seeds for reproducibility\n",
    "seed = 100\n",
    "random.seed(seed)\n",
    "\n",
    "# check if gpu is available\n",
    "device = torch.device('cuda' if torch.cuda.is_available() else 'cpu')\n",
    "print(device)"
   ]
  },
  {
   "cell_type": "markdown",
   "metadata": {
    "id": "MsVHxcPP7Bqh"
   },
   "source": [
    "## Build graph object, generate data points\n",
    "See `graph.py` for more details on the specific functions."
   ]
  },
  {
   "cell_type": "code",
   "execution_count": 3,
   "metadata": {
    "id": "3WsqeOzU7Bqi"
   },
   "outputs": [],
   "source": [
    "# read data and build graph object\n",
    "G, features = graph.read_data('data/3980_edited.edges', 'data/3980_edited.feat')\n",
    "\n",
    "# set which features to use (we only use feature 19, which is the anonymised gender)\n",
    "features = [19]\n",
    "\n",
    "# get the data points\n",
    "X, y = graph.generate_samples(G, features, num_scammers=num_scammers, max_hop=max_hop)\n",
    "\n",
    "# split data into train and test (we use a 80-20 split)\n",
    "X_train, X_test, y_train, y_test = train_test_split(X, y, test_size=0.2, random_state=seed)\n",
    "\n",
    "# load adjacency matrix\n",
    "A = nx.adjacency_matrix(G).todense()\n",
    "A = torch.Tensor(A).to(device)\n",
    "\n",
    "# get the input feature size\n",
    "input_size = len(X_train[0][0])"
   ]
  },
  {
   "cell_type": "markdown",
   "metadata": {
    "id": "oevtTDBN7Bqi"
   },
   "source": [
    "## Initialise model\n",
    "We try to account for imbalance within our generated dataset by weighting how `nn.CrossEntropyLoss` calculates the loss."
   ]
  },
  {
   "cell_type": "code",
   "execution_count": 4,
   "metadata": {
    "colab": {
     "base_uri": "https://localhost:8080/"
    },
    "executionInfo": {
     "elapsed": 6162,
     "status": "ok",
     "timestamp": 1619893377796,
     "user": {
      "displayName": "Jeremy Chew",
      "photoUrl": "",
      "userId": "08757129155548756874"
     },
     "user_tz": -480
    },
    "id": "0LF0w5tO7Bqi",
    "outputId": "02378172-7b43-493a-9543-16f461460be7"
   },
   "outputs": [
    {
     "name": "stdout",
     "output_type": "stream",
     "text": [
      "[0.7698863636363636, 0.23011363636363635]\n"
     ]
    }
   ],
   "source": [
    "# try to account for imbalance (only look within the training set)\n",
    "num_pos = sum(sum(lbl) for lbl in y_train)\n",
    "num_neg = len(G.nodes) * len(y_train) - num_pos\n",
    "samples = [num_neg, num_pos]\n",
    "wts = [1 - x / sum(samples) for x in samples]\n",
    "print(wts)\n",
    "weights = torch.Tensor(wts).to(device)\n",
    "\n",
    "# create the model\n",
    "model = graph.Net(A, input_size, 10, 2, device)\n",
    "criterion = nn.CrossEntropyLoss(weight=weights)\n",
    "optimiser = optim.SGD(model.parameters(), lr=lr, momentum=momentum)"
   ]
  },
  {
   "cell_type": "markdown",
   "metadata": {
    "id": "ehaf8E2D7Bqi"
   },
   "source": [
    "## Train the model\n",
    "We print out the training loss every 10 epochs. We will also plot how the losses vary as training progresses. We also save the model every 10 epochs."
   ]
  },
  {
   "cell_type": "code",
   "execution_count": 5,
   "metadata": {
    "colab": {
     "base_uri": "https://localhost:8080/",
     "height": 619
    },
    "executionInfo": {
     "elapsed": 12081,
     "status": "ok",
     "timestamp": 1619893383721,
     "user": {
      "displayName": "Jeremy Chew",
      "photoUrl": "",
      "userId": "08757129155548756874"
     },
     "user_tz": -480
    },
    "id": "HOc_F1tZ7Bqj",
    "outputId": "7467c6ee-ea53-4bc1-defb-dcf1efab789f"
   },
   "outputs": [
    {
     "name": "stdout",
     "output_type": "stream",
     "text": [
      "Epoch 10 of 100\n",
      "\tLoss: 0.6536017112433911\n",
      "Epoch 20 of 100\n",
      "\tLoss: 0.6529264148324728\n",
      "Epoch 30 of 100\n",
      "\tLoss: 0.6485581677407026\n",
      "Epoch 40 of 100\n",
      "\tLoss: 0.642870232090354\n",
      "Epoch 50 of 100\n",
      "\tLoss: 0.6372009351849556\n",
      "Epoch 60 of 100\n",
      "\tLoss: 0.6287689473479986\n",
      "Epoch 70 of 100\n",
      "\tLoss: 0.6266404658555984\n",
      "Epoch 80 of 100\n",
      "\tLoss: 0.6254421781748534\n",
      "Epoch 90 of 100\n",
      "\tLoss: 0.6211038053035736\n",
      "Epoch 100 of 100\n",
      "\tLoss: 0.6251347534358501\n"
     ]
    },
    {
     "data": {
      "image/png": "[encoded data removed]",
      "text/plain": [
       "<Figure size 432x288 with 1 Axes>"
      ]
     },
     "metadata": {
      "needs_background": "light"
     },
     "output_type": "display_data"
    }
   ],
   "source": [
    "# collect losses\n",
    "losses = []\n",
    "\n",
    "# train the model\n",
    "for epoch in range(epochs):\n",
    "    tl_loss = 0\n",
    "    tl = 0\n",
    "    for X, y in zip(X_train, y_train):\n",
    "        # move X, y to device\n",
    "        X = torch.Tensor(X).to(device)\n",
    "        y = torch.Tensor(y).to(device).long()\n",
    "\n",
    "        # forward pass\n",
    "        optimiser.zero_grad()\n",
    "        out = model(X)\n",
    "\n",
    "        # backprop\n",
    "        loss = criterion(out, y)\n",
    "        loss.backward()\n",
    "        optimiser.step()\n",
    "\n",
    "        tl_loss += loss.item()\n",
    "        tl += 1\n",
    "\n",
    "    # show loss and save the model in case it crash during training\n",
    "    if (epoch + 1) % 10 == 0:\n",
    "        print(f'Epoch {epoch + 1} of {epochs}\\n\\tLoss: {tl_loss / tl}')      \n",
    "        torch.save(model.state_dict(), f'models/train/model_{epoch + 1}.pt')\n",
    "\n",
    "    losses.append(tl_loss / tl)\n",
    "    \n",
    "# plot the training loss\n",
    "plt.plot(range(epochs), losses, 'g', label='Loss')\n",
    "plt.xlabel('Epochs')\n",
    "plt.ylabel('Loss')\n",
    "plt.legend()\n",
    "plt.show()"
   ]
  },
  {
   "cell_type": "markdown",
   "metadata": {
    "id": "0eKWGkgm7Bqj"
   },
   "source": [
    "## Test the model\n",
    "For our metrics, we calculate the number of true positives, false positives, true negatives, and false negatives."
   ]
  },
  {
   "cell_type": "code",
   "execution_count": 6,
   "metadata": {
    "colab": {
     "base_uri": "https://localhost:8080/"
    },
    "executionInfo": {
     "elapsed": 12077,
     "status": "ok",
     "timestamp": 1619893383722,
     "user": {
      "displayName": "Jeremy Chew",
      "photoUrl": "",
      "userId": "08757129155548756874"
     },
     "user_tz": -480
    },
    "id": "r8reM4V87Bqj",
    "outputId": "8798bd4a-eced-446a-c608-931e0ad5d98e"
   },
   "outputs": [
    {
     "name": "stdout",
     "output_type": "stream",
     "text": [
      "TP: 498. FP: 73. TN: 117. FN: 192.\n",
      "Accuracy: 0.6988636363636364\n"
     ]
    }
   ],
   "source": [
    "# test the model\n",
    "TP = TN = FP = FN = 0\n",
    "model.eval()\n",
    "for X, y in zip(X_test, y_test):\n",
    "    # move X to device\n",
    "    X = torch.Tensor(X).to(device)\n",
    "\n",
    "    # get output, convert to actual labels\n",
    "    out = model(X)\n",
    "    out = torch.argmax(out, dim=1)\n",
    "\n",
    "    # calculate metrics\n",
    "    for pred, actual in zip(out.cpu().tolist(), y):\n",
    "        if pred == actual == 0:\n",
    "            TN += 1\n",
    "        elif pred == actual == 1:\n",
    "            TP += 1\n",
    "        elif pred == 1:\n",
    "            FP += 1\n",
    "        else:\n",
    "            FN += 1\n",
    "\n",
    "\n",
    "print(f'TP: {TP}. FP: {FP}. TN: {TN}. FN: {FN}.')\n",
    "print(f'Accuracy: {(TP + TN) / (TP + TN + FP + FN)}')"
   ]
  },
  {
   "cell_type": "markdown",
   "metadata": {
    "id": "uZd7FlRZ7Bqk"
   },
   "source": [
    "## Visualisations\n",
    "We show how the network graph looks like. We also show how our model performs on a random sample from our test set."
   ]
  },
  {
   "cell_type": "code",
   "execution_count": 7,
   "metadata": {
    "colab": {
     "base_uri": "https://localhost:8080/",
     "height": 538
    },
    "executionInfo": {
     "elapsed": 12719,
     "status": "ok",
     "timestamp": 1619893384367,
     "user": {
      "displayName": "Jeremy Chew",
      "photoUrl": "",
      "userId": "08757129155548756874"
     },
     "user_tz": -480
    },
    "id": "TedST1W_7Bqk",
    "outputId": "a9e2b4c6-6797-4709-cb90-08b0d1a6cfc9"
   },
   "outputs": [
    {
     "data": {
      "text/html": [
       "\n",
       "        <iframe\n",
       "            width=\"500px\"\n",
       "            height=\"500px\"\n",
       "            src=\"network.html\"\n",
       "            frameborder=\"0\"\n",
       "            allowfullscreen\n",
       "        ></iframe>\n",
       "        "
      ],
      "text/plain": [
       "<IPython.lib.display.IFrame at 0x17ae2cf9610>"
      ]
     },
     "execution_count": 7,
     "metadata": {},
     "output_type": "execute_result"
    }
   ],
   "source": [
    "from pyvis import network as net\n",
    "from dimcli.utils.networkviz import *\n",
    "\n",
    "# show the network graph\n",
    "g = NetworkViz(notebook=True)\n",
    "\n",
    "# convert the networkx graph to one supported by pyvis\n",
    "for node in G.nodes:\n",
    "    g.add_node(node, size=8)\n",
    "\n",
    "for (f_node, t_node) in G.edges:\n",
    "    g.add_edge(f_node, t_node)\n",
    "\n",
    "# show the graph\n",
    "g.show(\"network.html\")"
   ]
  },
  {
   "cell_type": "code",
   "execution_count": 8,
   "metadata": {
    "colab": {
     "base_uri": "https://localhost:8080/",
     "height": 538
    },
    "executionInfo": {
     "elapsed": 12716,
     "status": "ok",
     "timestamp": 1619893384368,
     "user": {
      "displayName": "Jeremy Chew",
      "photoUrl": "",
      "userId": "08757129155548756874"
     },
     "user_tz": -480
    },
    "id": "_aEYtBfa7Bqk",
    "outputId": "5ebc3d72-77c0-43d1-a104-7b3d1272c0c6"
   },
   "outputs": [
    {
     "data": {
      "text/html": [
       "\n",
       "        <iframe\n",
       "            width=\"500px\"\n",
       "            height=\"500px\"\n",
       "            src=\"network.html\"\n",
       "            frameborder=\"0\"\n",
       "            allowfullscreen\n",
       "        ></iframe>\n",
       "        "
      ],
      "text/plain": [
       "<IPython.lib.display.IFrame at 0x17addf21f40>"
      ]
     },
     "execution_count": 8,
     "metadata": {},
     "output_type": "execute_result"
    }
   ],
   "source": [
    "# choose a random sample\n",
    "X, y = random.choice(list(zip(X_test, y_test)))\n",
    "\n",
    "# run this through our model\n",
    "X = torch.Tensor(X).to(device)\n",
    "out = torch.argmax(model(X), dim=1)\n",
    "\n",
    "# colour the nodes accordingly\n",
    "# if it was a victim, and was predicted as such (TP)      : yellow\n",
    "# if it was not a victim, and was predicted as such (TN)  : cyan\n",
    "# if it was not a victim, but was predicted as one (FP)   : blue\n",
    "# if it was a victim, but was not predicted as one (FN)   : red\n",
    "# if it was a scammer                                     : black\n",
    "\n",
    "yellow = '#FFD700'\n",
    "cyan = '#51F59D'\n",
    "blue = '#3220F5'\n",
    "red = '#F53F2C'\n",
    "black = '#000000'\n",
    "\n",
    "for i, node in enumerate(G.nodes):\n",
    "    pred = out.cpu().tolist()[i]\n",
    "    actual = y[i]\n",
    "    \n",
    "    if X[i][0] == 1:\n",
    "        # scammer\n",
    "        g.nodes[i]['color'] = black\n",
    "    elif pred == actual == 0:\n",
    "        # TN\n",
    "        g.nodes[i]['color'] = cyan\n",
    "    elif pred == actual == 1:\n",
    "        # TP\n",
    "        g.nodes[i]['color'] = yellow\n",
    "    elif pred == 1:\n",
    "        # FP\n",
    "        g.nodes[i]['color'] = blue\n",
    "    else:\n",
    "        # FN\n",
    "        g.nodes[i]['color'] = red\n",
    "\n",
    "# show the graph\n",
    "g.show(\"network.html\")"
   ]
  },
  {
   "cell_type": "markdown",
   "metadata": {
    "id": "SSl-not77Bql"
   },
   "source": [
    "## Model saving\n",
    "Save the model so that we can use it for later."
   ]
  },
  {
   "cell_type": "code",
   "execution_count": 9,
   "metadata": {
    "id": "oAIEVi9O8TYt"
   },
   "outputs": [],
   "source": [
    "torch.save(model.state_dict(), f'models/model_final.pt')"
   ]
  }
 ],
 "metadata": {
  "colab": {
   "name": "training.ipynb",
   "provenance": []
  },
  "kernelspec": {
   "display_name": "Python 3",
   "language": "python",
   "name": "python3"
  },
  "language_info": {
   "codemirror_mode": {
    "name": "ipython",
    "version": 3
   },
   "file_extension": ".py",
   "mimetype": "text/x-python",
   "name": "python",
   "nbconvert_exporter": "python",
   "pygments_lexer": "ipython3",
   "version": "3.9.2"
  }
 },
 "nbformat": 4,
 "nbformat_minor": 1
}
